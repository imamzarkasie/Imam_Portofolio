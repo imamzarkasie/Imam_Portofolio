{
  "nbformat": 4,
  "nbformat_minor": 0,
  "metadata": {
    "colab": {
      "provenance": [],
      "toc_visible": true,
      "collapsed_sections": [
        "rwl19rZ7H46t"
      ]
    },
    "kernelspec": {
      "name": "python3",
      "display_name": "Python 3"
    },
    "language_info": {
      "name": "python"
    }
  },
  "cells": [
    {
      "cell_type": "markdown",
      "source": [
        "# i. Introduction\n"
      ],
      "metadata": {
        "id": "xAELu6L7Hl1y"
      }
    },
    {
      "cell_type": "markdown",
      "source": [
        "Imam Buchori Zarkasie\n",
        "\n",
        "Dataset: Querying from Google Bigquery\n",
        "\n",
        "DATASET SQL SYNTAX:\n",
        "\n",
        "SELECT * FROM 'bigquery-public-data.covid19_jhu_csse.summary';"
      ],
      "metadata": {
        "id": "6Py4kDCMswE4"
      }
    },
    {
      "cell_type": "markdown",
      "source": [
        "Problem Statement\n",
        "\n",
        "Health problems are an important aspect for every country, especially since the Covid-19 pandemic has appeared in many countries in the world that have been affected.\n",
        "\n",
        "This project will explore and retrieve *insight* from the available datasets, analysis will be carried out to determine the number of *confirmed* and *recovered* cases from various countries during the Covid-19 pandemic."
      ],
      "metadata": {
        "id": "eRmWT5f7LLJ1"
      }
    },
    {
      "cell_type": "markdown",
      "source": [
        "#ii. Import Library"
      ],
      "metadata": {
        "id": "rwl19rZ7H46t"
      }
    },
    {
      "cell_type": "code",
      "source": [
        "import numpy as np\n",
        "import pandas as pd\n"
      ],
      "metadata": {
        "id": "yHQHb4cKZDyj"
      },
      "execution_count": null,
      "outputs": []
    },
    {
      "cell_type": "markdown",
      "source": [
        "#iii. Data Loading"
      ],
      "metadata": {
        "id": "ZSqHRdsLIIcc"
      }
    },
    {
      "cell_type": "code",
      "source": [
        "from google.colab import drive\n",
        "drive.mount('/content/drive')"
      ],
      "metadata": {
        "colab": {
          "base_uri": "https://localhost:8080/"
        },
        "id": "5PKXS_vRnJ-P",
        "outputId": "4c427829-ba14-4a10-c4bd-988b06f0ae86"
      },
      "execution_count": null,
      "outputs": [
        {
          "output_type": "stream",
          "name": "stdout",
          "text": [
            "Mounted at /content/drive\n"
          ]
        }
      ]
    },
    {
      "cell_type": "code",
      "source": [
        "df = pd.read_csv(\"/content/drive/MyDrive/dataset GC1/h8dsft_P0GC1_imamzarkasie.csv\")"
      ],
      "metadata": {
        "id": "XITXh-kfoPb_"
      },
      "execution_count": null,
      "outputs": []
    },
    {
      "cell_type": "code",
      "source": [
        "df"
      ],
      "metadata": {
        "id": "PWzPe-tkoYYC"
      },
      "execution_count": null,
      "outputs": []
    },
    {
      "cell_type": "markdown",
      "source": [
        "The dataset consists of 4264080 rows and 13 columns."
      ],
      "metadata": {
        "id": "fFRkAHvAOqSG"
      }
    },
    {
      "cell_type": "code",
      "source": [
        "df.describe().round()"
      ],
      "metadata": {
        "id": "yljpkg-bQdDq"
      },
      "execution_count": null,
      "outputs": []
    },
    {
      "cell_type": "code",
      "source": [
        "df.head(5)"
      ],
      "metadata": {
        "id": "D86MnULgphxA"
      },
      "execution_count": null,
      "outputs": []
    },
    {
      "cell_type": "code",
      "source": [
        "df.tail(5)"
      ],
      "metadata": {
        "id": "EmWLoXD_qBOt",
        "colab": {
          "base_uri": "https://localhost:8080/",
          "height": 341
        },
        "outputId": "f12066ec-d982-4d59-f226-02e64cbe7819"
      },
      "execution_count": null,
      "outputs": [
        {
          "output_type": "execute_result",
          "data": {
            "text/plain": [
              "        province_state country_region        date   latitude  longitude  \\\n",
              "4264075      Wisconsin             US  2022-09-29  42.679496 -89.602433   \n",
              "4264076      Wisconsin             US  2022-09-29  44.318649 -90.805668   \n",
              "4264077      Wisconsin             US  2022-09-29  43.906325 -91.114511   \n",
              "4264078      Wisconsin             US  2022-09-29  44.475587 -89.501530   \n",
              "4264079      Wisconsin             US  2022-09-29  43.425741 -89.949661   \n",
              "\n",
              "                           location_geom  confirmed  deaths  recovered  \\\n",
              "4264075   POINT(-89.60243287 42.6794956)    10764.0    60.0        NaN   \n",
              "4264076  POINT(-90.80566792 44.31864893)     6538.0    45.0        NaN   \n",
              "4264077  POINT(-91.11451093 43.90632465)    41002.0   198.0        NaN   \n",
              "4264078  POINT(-89.50152965 44.47558711)    21209.0   165.0        NaN   \n",
              "4264079  POINT(-89.94966132 43.42574087)    19382.0   146.0        NaN   \n",
              "\n",
              "         active     fips     admin2              combined_key  \n",
              "4264075     NaN  55045.0      Green      Green, Wisconsin, US  \n",
              "4264076     NaN  55053.0    Jackson    Jackson, Wisconsin, US  \n",
              "4264077     NaN  55063.0  La Crosse  La Crosse, Wisconsin, US  \n",
              "4264078     NaN  55097.0    Portage    Portage, Wisconsin, US  \n",
              "4264079     NaN  55111.0       Sauk       Sauk, Wisconsin, US  "
            ],
            "text/html": [
              "\n",
              "  <div id=\"df-9190d171-f4cb-4c47-9b79-cff7c62f4d6d\">\n",
              "    <div class=\"colab-df-container\">\n",
              "      <div>\n",
              "<style scoped>\n",
              "    .dataframe tbody tr th:only-of-type {\n",
              "        vertical-align: middle;\n",
              "    }\n",
              "\n",
              "    .dataframe tbody tr th {\n",
              "        vertical-align: top;\n",
              "    }\n",
              "\n",
              "    .dataframe thead th {\n",
              "        text-align: right;\n",
              "    }\n",
              "</style>\n",
              "<table border=\"1\" class=\"dataframe\">\n",
              "  <thead>\n",
              "    <tr style=\"text-align: right;\">\n",
              "      <th></th>\n",
              "      <th>province_state</th>\n",
              "      <th>country_region</th>\n",
              "      <th>date</th>\n",
              "      <th>latitude</th>\n",
              "      <th>longitude</th>\n",
              "      <th>location_geom</th>\n",
              "      <th>confirmed</th>\n",
              "      <th>deaths</th>\n",
              "      <th>recovered</th>\n",
              "      <th>active</th>\n",
              "      <th>fips</th>\n",
              "      <th>admin2</th>\n",
              "      <th>combined_key</th>\n",
              "    </tr>\n",
              "  </thead>\n",
              "  <tbody>\n",
              "    <tr>\n",
              "      <th>4264075</th>\n",
              "      <td>Wisconsin</td>\n",
              "      <td>US</td>\n",
              "      <td>2022-09-29</td>\n",
              "      <td>42.679496</td>\n",
              "      <td>-89.602433</td>\n",
              "      <td>POINT(-89.60243287 42.6794956)</td>\n",
              "      <td>10764.0</td>\n",
              "      <td>60.0</td>\n",
              "      <td>NaN</td>\n",
              "      <td>NaN</td>\n",
              "      <td>55045.0</td>\n",
              "      <td>Green</td>\n",
              "      <td>Green, Wisconsin, US</td>\n",
              "    </tr>\n",
              "    <tr>\n",
              "      <th>4264076</th>\n",
              "      <td>Wisconsin</td>\n",
              "      <td>US</td>\n",
              "      <td>2022-09-29</td>\n",
              "      <td>44.318649</td>\n",
              "      <td>-90.805668</td>\n",
              "      <td>POINT(-90.80566792 44.31864893)</td>\n",
              "      <td>6538.0</td>\n",
              "      <td>45.0</td>\n",
              "      <td>NaN</td>\n",
              "      <td>NaN</td>\n",
              "      <td>55053.0</td>\n",
              "      <td>Jackson</td>\n",
              "      <td>Jackson, Wisconsin, US</td>\n",
              "    </tr>\n",
              "    <tr>\n",
              "      <th>4264077</th>\n",
              "      <td>Wisconsin</td>\n",
              "      <td>US</td>\n",
              "      <td>2022-09-29</td>\n",
              "      <td>43.906325</td>\n",
              "      <td>-91.114511</td>\n",
              "      <td>POINT(-91.11451093 43.90632465)</td>\n",
              "      <td>41002.0</td>\n",
              "      <td>198.0</td>\n",
              "      <td>NaN</td>\n",
              "      <td>NaN</td>\n",
              "      <td>55063.0</td>\n",
              "      <td>La Crosse</td>\n",
              "      <td>La Crosse, Wisconsin, US</td>\n",
              "    </tr>\n",
              "    <tr>\n",
              "      <th>4264078</th>\n",
              "      <td>Wisconsin</td>\n",
              "      <td>US</td>\n",
              "      <td>2022-09-29</td>\n",
              "      <td>44.475587</td>\n",
              "      <td>-89.501530</td>\n",
              "      <td>POINT(-89.50152965 44.47558711)</td>\n",
              "      <td>21209.0</td>\n",
              "      <td>165.0</td>\n",
              "      <td>NaN</td>\n",
              "      <td>NaN</td>\n",
              "      <td>55097.0</td>\n",
              "      <td>Portage</td>\n",
              "      <td>Portage, Wisconsin, US</td>\n",
              "    </tr>\n",
              "    <tr>\n",
              "      <th>4264079</th>\n",
              "      <td>Wisconsin</td>\n",
              "      <td>US</td>\n",
              "      <td>2022-09-29</td>\n",
              "      <td>43.425741</td>\n",
              "      <td>-89.949661</td>\n",
              "      <td>POINT(-89.94966132 43.42574087)</td>\n",
              "      <td>19382.0</td>\n",
              "      <td>146.0</td>\n",
              "      <td>NaN</td>\n",
              "      <td>NaN</td>\n",
              "      <td>55111.0</td>\n",
              "      <td>Sauk</td>\n",
              "      <td>Sauk, Wisconsin, US</td>\n",
              "    </tr>\n",
              "  </tbody>\n",
              "</table>\n",
              "</div>\n",
              "      <button class=\"colab-df-convert\" onclick=\"convertToInteractive('df-9190d171-f4cb-4c47-9b79-cff7c62f4d6d')\"\n",
              "              title=\"Convert this dataframe to an interactive table.\"\n",
              "              style=\"display:none;\">\n",
              "        \n",
              "  <svg xmlns=\"http://www.w3.org/2000/svg\" height=\"24px\"viewBox=\"0 0 24 24\"\n",
              "       width=\"24px\">\n",
              "    <path d=\"M0 0h24v24H0V0z\" fill=\"none\"/>\n",
              "    <path d=\"M18.56 5.44l.94 2.06.94-2.06 2.06-.94-2.06-.94-.94-2.06-.94 2.06-2.06.94zm-11 1L8.5 8.5l.94-2.06 2.06-.94-2.06-.94L8.5 2.5l-.94 2.06-2.06.94zm10 10l.94 2.06.94-2.06 2.06-.94-2.06-.94-.94-2.06-.94 2.06-2.06.94z\"/><path d=\"M17.41 7.96l-1.37-1.37c-.4-.4-.92-.59-1.43-.59-.52 0-1.04.2-1.43.59L10.3 9.45l-7.72 7.72c-.78.78-.78 2.05 0 2.83L4 21.41c.39.39.9.59 1.41.59.51 0 1.02-.2 1.41-.59l7.78-7.78 2.81-2.81c.8-.78.8-2.07 0-2.86zM5.41 20L4 18.59l7.72-7.72 1.47 1.35L5.41 20z\"/>\n",
              "  </svg>\n",
              "      </button>\n",
              "      \n",
              "  <style>\n",
              "    .colab-df-container {\n",
              "      display:flex;\n",
              "      flex-wrap:wrap;\n",
              "      gap: 12px;\n",
              "    }\n",
              "\n",
              "    .colab-df-convert {\n",
              "      background-color: #E8F0FE;\n",
              "      border: none;\n",
              "      border-radius: 50%;\n",
              "      cursor: pointer;\n",
              "      display: none;\n",
              "      fill: #1967D2;\n",
              "      height: 32px;\n",
              "      padding: 0 0 0 0;\n",
              "      width: 32px;\n",
              "    }\n",
              "\n",
              "    .colab-df-convert:hover {\n",
              "      background-color: #E2EBFA;\n",
              "      box-shadow: 0px 1px 2px rgba(60, 64, 67, 0.3), 0px 1px 3px 1px rgba(60, 64, 67, 0.15);\n",
              "      fill: #174EA6;\n",
              "    }\n",
              "\n",
              "    [theme=dark] .colab-df-convert {\n",
              "      background-color: #3B4455;\n",
              "      fill: #D2E3FC;\n",
              "    }\n",
              "\n",
              "    [theme=dark] .colab-df-convert:hover {\n",
              "      background-color: #434B5C;\n",
              "      box-shadow: 0px 1px 3px 1px rgba(0, 0, 0, 0.15);\n",
              "      filter: drop-shadow(0px 1px 2px rgba(0, 0, 0, 0.3));\n",
              "      fill: #FFFFFF;\n",
              "    }\n",
              "  </style>\n",
              "\n",
              "      <script>\n",
              "        const buttonEl =\n",
              "          document.querySelector('#df-9190d171-f4cb-4c47-9b79-cff7c62f4d6d button.colab-df-convert');\n",
              "        buttonEl.style.display =\n",
              "          google.colab.kernel.accessAllowed ? 'block' : 'none';\n",
              "\n",
              "        async function convertToInteractive(key) {\n",
              "          const element = document.querySelector('#df-9190d171-f4cb-4c47-9b79-cff7c62f4d6d');\n",
              "          const dataTable =\n",
              "            await google.colab.kernel.invokeFunction('convertToInteractive',\n",
              "                                                     [key], {});\n",
              "          if (!dataTable) return;\n",
              "\n",
              "          const docLinkHtml = 'Like what you see? Visit the ' +\n",
              "            '<a target=\"_blank\" href=https://colab.research.google.com/notebooks/data_table.ipynb>data table notebook</a>'\n",
              "            + ' to learn more about interactive tables.';\n",
              "          element.innerHTML = '';\n",
              "          dataTable['output_type'] = 'display_data';\n",
              "          await google.colab.output.renderOutput(dataTable, element);\n",
              "          const docLink = document.createElement('div');\n",
              "          docLink.innerHTML = docLinkHtml;\n",
              "          element.appendChild(docLink);\n",
              "        }\n",
              "      </script>\n",
              "    </div>\n",
              "  </div>\n",
              "  "
            ]
          },
          "metadata": {},
          "execution_count": 7
        }
      ]
    },
    {
      "cell_type": "code",
      "source": [
        "df.info()"
      ],
      "metadata": {
        "id": "-5IzzfvBqHn9",
        "colab": {
          "base_uri": "https://localhost:8080/"
        },
        "outputId": "f6ee50a2-5459-4a21-b908-758b1feb9d52"
      },
      "execution_count": null,
      "outputs": [
        {
          "output_type": "stream",
          "name": "stdout",
          "text": [
            "<class 'pandas.core.frame.DataFrame'>\n",
            "RangeIndex: 4264080 entries, 0 to 4264079\n",
            "Data columns (total 13 columns):\n",
            " #   Column          Dtype  \n",
            "---  ------          -----  \n",
            " 0   province_state  object \n",
            " 1   country_region  object \n",
            " 2   date            object \n",
            " 3   latitude        float64\n",
            " 4   longitude       float64\n",
            " 5   location_geom   object \n",
            " 6   confirmed       float64\n",
            " 7   deaths          float64\n",
            " 8   recovered       float64\n",
            " 9   active          float64\n",
            " 10  fips            float64\n",
            " 11  admin2          object \n",
            " 12  combined_key    object \n",
            "dtypes: float64(7), object(6)\n",
            "memory usage: 422.9+ MB\n"
          ]
        }
      ]
    },
    {
      "cell_type": "markdown",
      "source": [
        "#iv. Data Cleaning"
      ],
      "metadata": {
        "id": "n-B2wRs3Id2x"
      }
    },
    {
      "cell_type": "markdown",
      "source": [
        "####Check missing value"
      ],
      "metadata": {
        "id": "r95SwVc6tA2u"
      }
    },
    {
      "cell_type": "code",
      "source": [
        "df.isna().sum()"
      ],
      "metadata": {
        "id": "CSXB9Y9_UnTE",
        "colab": {
          "base_uri": "https://localhost:8080/"
        },
        "outputId": "61a5e964-16f4-441f-8649-eb431c13f18a"
      },
      "execution_count": null,
      "outputs": [
        {
          "output_type": "execute_result",
          "data": {
            "text/plain": [
              "province_state     191891\n",
              "country_region          1\n",
              "date                    0\n",
              "latitude            95263\n",
              "longitude           95263\n",
              "location_geom       95263\n",
              "confirmed              19\n",
              "deaths                442\n",
              "recovered         2828489\n",
              "active            2836568\n",
              "fips               764588\n",
              "admin2             759505\n",
              "combined_key         7618\n",
              "dtype: int64"
            ]
          },
          "metadata": {},
          "execution_count": 9
        }
      ]
    },
    {
      "cell_type": "markdown",
      "source": [
        "There are missing values ​​on several attributes"
      ],
      "metadata": {
        "id": "SOgYI4I1tHmv"
      }
    },
    {
      "cell_type": "code",
      "source": [
        "#Backup Data\n",
        "covid = df.copy()"
      ],
      "metadata": {
        "id": "QJfR90esAZdT"
      },
      "execution_count": null,
      "outputs": []
    },
    {
      "cell_type": "code",
      "source": [
        "covid.shape"
      ],
      "metadata": {
        "id": "PejDe31gA7i6",
        "colab": {
          "base_uri": "https://localhost:8080/"
        },
        "outputId": "720bb671-fa57-4c05-e29b-c387ed55fd2e"
      },
      "execution_count": null,
      "outputs": [
        {
          "output_type": "execute_result",
          "data": {
            "text/plain": [
              "(4264080, 13)"
            ]
          },
          "metadata": {},
          "execution_count": 11
        }
      ]
    },
    {
      "cell_type": "code",
      "source": [
        "covid.describe().round()"
      ],
      "metadata": {
        "id": "TozGoT1-i_nI",
        "colab": {
          "base_uri": "https://localhost:8080/",
          "height": 297
        },
        "outputId": "b469fed7-a6b3-42fb-a6df-07de19fd54c1"
      },
      "execution_count": null,
      "outputs": [
        {
          "output_type": "execute_result",
          "data": {
            "text/plain": [
              "        latitude  longitude   confirmed     deaths  recovered      active  \\\n",
              "count  4168817.0  4168817.0   4264061.0  4263638.0  1435591.0   1427512.0   \n",
              "mean        36.0      -72.0     74242.0     1026.0    16362.0      6557.0   \n",
              "std         13.0       54.0    586461.0     6351.0   134176.0     92861.0   \n",
              "min        -72.0     -178.0   -302844.0     -178.0  -854405.0  -6298082.0   \n",
              "25%         33.0      -97.0       801.0       11.0        0.0        55.0   \n",
              "50%         38.0      -87.0      3741.0       58.0        0.0       471.0   \n",
              "75%         42.0      -78.0     16065.0      223.0        0.0      2248.0   \n",
              "max         72.0      178.0  38618509.0   624641.0  6399531.0  10877758.0   \n",
              "\n",
              "            fips  \n",
              "count  3499492.0  \n",
              "mean     32288.0  \n",
              "std      17933.0  \n",
              "min         60.0  \n",
              "25%      19041.0  \n",
              "50%      30057.0  \n",
              "75%      47029.0  \n",
              "max      99999.0  "
            ],
            "text/html": [
              "\n",
              "  <div id=\"df-355e291d-f14c-4795-9381-674c2f538d4d\">\n",
              "    <div class=\"colab-df-container\">\n",
              "      <div>\n",
              "<style scoped>\n",
              "    .dataframe tbody tr th:only-of-type {\n",
              "        vertical-align: middle;\n",
              "    }\n",
              "\n",
              "    .dataframe tbody tr th {\n",
              "        vertical-align: top;\n",
              "    }\n",
              "\n",
              "    .dataframe thead th {\n",
              "        text-align: right;\n",
              "    }\n",
              "</style>\n",
              "<table border=\"1\" class=\"dataframe\">\n",
              "  <thead>\n",
              "    <tr style=\"text-align: right;\">\n",
              "      <th></th>\n",
              "      <th>latitude</th>\n",
              "      <th>longitude</th>\n",
              "      <th>confirmed</th>\n",
              "      <th>deaths</th>\n",
              "      <th>recovered</th>\n",
              "      <th>active</th>\n",
              "      <th>fips</th>\n",
              "    </tr>\n",
              "  </thead>\n",
              "  <tbody>\n",
              "    <tr>\n",
              "      <th>count</th>\n",
              "      <td>4168817.0</td>\n",
              "      <td>4168817.0</td>\n",
              "      <td>4264061.0</td>\n",
              "      <td>4263638.0</td>\n",
              "      <td>1435591.0</td>\n",
              "      <td>1427512.0</td>\n",
              "      <td>3499492.0</td>\n",
              "    </tr>\n",
              "    <tr>\n",
              "      <th>mean</th>\n",
              "      <td>36.0</td>\n",
              "      <td>-72.0</td>\n",
              "      <td>74242.0</td>\n",
              "      <td>1026.0</td>\n",
              "      <td>16362.0</td>\n",
              "      <td>6557.0</td>\n",
              "      <td>32288.0</td>\n",
              "    </tr>\n",
              "    <tr>\n",
              "      <th>std</th>\n",
              "      <td>13.0</td>\n",
              "      <td>54.0</td>\n",
              "      <td>586461.0</td>\n",
              "      <td>6351.0</td>\n",
              "      <td>134176.0</td>\n",
              "      <td>92861.0</td>\n",
              "      <td>17933.0</td>\n",
              "    </tr>\n",
              "    <tr>\n",
              "      <th>min</th>\n",
              "      <td>-72.0</td>\n",
              "      <td>-178.0</td>\n",
              "      <td>-302844.0</td>\n",
              "      <td>-178.0</td>\n",
              "      <td>-854405.0</td>\n",
              "      <td>-6298082.0</td>\n",
              "      <td>60.0</td>\n",
              "    </tr>\n",
              "    <tr>\n",
              "      <th>25%</th>\n",
              "      <td>33.0</td>\n",
              "      <td>-97.0</td>\n",
              "      <td>801.0</td>\n",
              "      <td>11.0</td>\n",
              "      <td>0.0</td>\n",
              "      <td>55.0</td>\n",
              "      <td>19041.0</td>\n",
              "    </tr>\n",
              "    <tr>\n",
              "      <th>50%</th>\n",
              "      <td>38.0</td>\n",
              "      <td>-87.0</td>\n",
              "      <td>3741.0</td>\n",
              "      <td>58.0</td>\n",
              "      <td>0.0</td>\n",
              "      <td>471.0</td>\n",
              "      <td>30057.0</td>\n",
              "    </tr>\n",
              "    <tr>\n",
              "      <th>75%</th>\n",
              "      <td>42.0</td>\n",
              "      <td>-78.0</td>\n",
              "      <td>16065.0</td>\n",
              "      <td>223.0</td>\n",
              "      <td>0.0</td>\n",
              "      <td>2248.0</td>\n",
              "      <td>47029.0</td>\n",
              "    </tr>\n",
              "    <tr>\n",
              "      <th>max</th>\n",
              "      <td>72.0</td>\n",
              "      <td>178.0</td>\n",
              "      <td>38618509.0</td>\n",
              "      <td>624641.0</td>\n",
              "      <td>6399531.0</td>\n",
              "      <td>10877758.0</td>\n",
              "      <td>99999.0</td>\n",
              "    </tr>\n",
              "  </tbody>\n",
              "</table>\n",
              "</div>\n",
              "      <button class=\"colab-df-convert\" onclick=\"convertToInteractive('df-355e291d-f14c-4795-9381-674c2f538d4d')\"\n",
              "              title=\"Convert this dataframe to an interactive table.\"\n",
              "              style=\"display:none;\">\n",
              "        \n",
              "  <svg xmlns=\"http://www.w3.org/2000/svg\" height=\"24px\"viewBox=\"0 0 24 24\"\n",
              "       width=\"24px\">\n",
              "    <path d=\"M0 0h24v24H0V0z\" fill=\"none\"/>\n",
              "    <path d=\"M18.56 5.44l.94 2.06.94-2.06 2.06-.94-2.06-.94-.94-2.06-.94 2.06-2.06.94zm-11 1L8.5 8.5l.94-2.06 2.06-.94-2.06-.94L8.5 2.5l-.94 2.06-2.06.94zm10 10l.94 2.06.94-2.06 2.06-.94-2.06-.94-.94-2.06-.94 2.06-2.06.94z\"/><path d=\"M17.41 7.96l-1.37-1.37c-.4-.4-.92-.59-1.43-.59-.52 0-1.04.2-1.43.59L10.3 9.45l-7.72 7.72c-.78.78-.78 2.05 0 2.83L4 21.41c.39.39.9.59 1.41.59.51 0 1.02-.2 1.41-.59l7.78-7.78 2.81-2.81c.8-.78.8-2.07 0-2.86zM5.41 20L4 18.59l7.72-7.72 1.47 1.35L5.41 20z\"/>\n",
              "  </svg>\n",
              "      </button>\n",
              "      \n",
              "  <style>\n",
              "    .colab-df-container {\n",
              "      display:flex;\n",
              "      flex-wrap:wrap;\n",
              "      gap: 12px;\n",
              "    }\n",
              "\n",
              "    .colab-df-convert {\n",
              "      background-color: #E8F0FE;\n",
              "      border: none;\n",
              "      border-radius: 50%;\n",
              "      cursor: pointer;\n",
              "      display: none;\n",
              "      fill: #1967D2;\n",
              "      height: 32px;\n",
              "      padding: 0 0 0 0;\n",
              "      width: 32px;\n",
              "    }\n",
              "\n",
              "    .colab-df-convert:hover {\n",
              "      background-color: #E2EBFA;\n",
              "      box-shadow: 0px 1px 2px rgba(60, 64, 67, 0.3), 0px 1px 3px 1px rgba(60, 64, 67, 0.15);\n",
              "      fill: #174EA6;\n",
              "    }\n",
              "\n",
              "    [theme=dark] .colab-df-convert {\n",
              "      background-color: #3B4455;\n",
              "      fill: #D2E3FC;\n",
              "    }\n",
              "\n",
              "    [theme=dark] .colab-df-convert:hover {\n",
              "      background-color: #434B5C;\n",
              "      box-shadow: 0px 1px 3px 1px rgba(0, 0, 0, 0.15);\n",
              "      filter: drop-shadow(0px 1px 2px rgba(0, 0, 0, 0.3));\n",
              "      fill: #FFFFFF;\n",
              "    }\n",
              "  </style>\n",
              "\n",
              "      <script>\n",
              "        const buttonEl =\n",
              "          document.querySelector('#df-355e291d-f14c-4795-9381-674c2f538d4d button.colab-df-convert');\n",
              "        buttonEl.style.display =\n",
              "          google.colab.kernel.accessAllowed ? 'block' : 'none';\n",
              "\n",
              "        async function convertToInteractive(key) {\n",
              "          const element = document.querySelector('#df-355e291d-f14c-4795-9381-674c2f538d4d');\n",
              "          const dataTable =\n",
              "            await google.colab.kernel.invokeFunction('convertToInteractive',\n",
              "                                                     [key], {});\n",
              "          if (!dataTable) return;\n",
              "\n",
              "          const docLinkHtml = 'Like what you see? Visit the ' +\n",
              "            '<a target=\"_blank\" href=https://colab.research.google.com/notebooks/data_table.ipynb>data table notebook</a>'\n",
              "            + ' to learn more about interactive tables.';\n",
              "          element.innerHTML = '';\n",
              "          dataTable['output_type'] = 'display_data';\n",
              "          await google.colab.output.renderOutput(dataTable, element);\n",
              "          const docLink = document.createElement('div');\n",
              "          docLink.innerHTML = docLinkHtml;\n",
              "          element.appendChild(docLink);\n",
              "        }\n",
              "      </script>\n",
              "    </div>\n",
              "  </div>\n",
              "  "
            ]
          },
          "metadata": {},
          "execution_count": 12
        }
      ]
    },
    {
      "cell_type": "code",
      "source": [
        "covid.isna().sum()"
      ],
      "metadata": {
        "id": "ZY7FC-aeHdrV",
        "colab": {
          "base_uri": "https://localhost:8080/"
        },
        "outputId": "67585e62-a76e-448a-bf7d-29bf9ead2dad"
      },
      "execution_count": null,
      "outputs": [
        {
          "output_type": "execute_result",
          "data": {
            "text/plain": [
              "province_state     191891\n",
              "country_region          1\n",
              "date                    0\n",
              "latitude            95263\n",
              "longitude           95263\n",
              "location_geom       95263\n",
              "confirmed              19\n",
              "deaths                442\n",
              "recovered         2828489\n",
              "active            2836568\n",
              "fips               764588\n",
              "admin2             759505\n",
              "combined_key         7618\n",
              "dtype: int64"
            ]
          },
          "metadata": {},
          "execution_count": 13
        }
      ]
    },
    {
      "cell_type": "markdown",
      "source": [
        "####Delete not required columns"
      ],
      "metadata": {
        "id": "GasDSbf8t6Xk"
      }
    },
    {
      "cell_type": "code",
      "source": [
        "drop_columns = [\"latitude\", \"longitude\",\"location_geom\", \"combined_key\"]"
      ],
      "metadata": {
        "id": "dco9TIN4NaPy"
      },
      "execution_count": null,
      "outputs": []
    },
    {
      "cell_type": "code",
      "source": [
        "covid.drop(drop_columns, inplace=True, axis=1)"
      ],
      "metadata": {
        "id": "XSZjjK9PNdoI"
      },
      "execution_count": null,
      "outputs": []
    },
    {
      "cell_type": "markdown",
      "source": [
        "Eliminate the attributes \"latitude\", \"longitude\", \"location_geom\", \"combined_key\" because the geographic value is not a problem that you want to discuss, while the \"combined_key\" values ​​can be seen separately in the \"province_state\", \"country_region\" and \"admin2\" attributes"
      ],
      "metadata": {
        "id": "xAsF7tkUuAO0"
      }
    },
    {
      "cell_type": "code",
      "source": [
        "covid.info()"
      ],
      "metadata": {
        "id": "9Btobb3vBfPd",
        "colab": {
          "base_uri": "https://localhost:8080/"
        },
        "outputId": "3ad1db59-7152-4e52-fb6a-5bf2a254621e"
      },
      "execution_count": null,
      "outputs": [
        {
          "output_type": "stream",
          "name": "stdout",
          "text": [
            "<class 'pandas.core.frame.DataFrame'>\n",
            "RangeIndex: 4264080 entries, 0 to 4264079\n",
            "Data columns (total 9 columns):\n",
            " #   Column          Dtype  \n",
            "---  ------          -----  \n",
            " 0   province_state  object \n",
            " 1   country_region  object \n",
            " 2   date            object \n",
            " 3   confirmed       float64\n",
            " 4   deaths          float64\n",
            " 5   recovered       float64\n",
            " 6   active          float64\n",
            " 7   fips            float64\n",
            " 8   admin2          object \n",
            "dtypes: float64(5), object(4)\n",
            "memory usage: 292.8+ MB\n"
          ]
        }
      ]
    },
    {
      "cell_type": "markdown",
      "source": [
        "####Replace Missing Value"
      ],
      "metadata": {
        "id": "MQnFHSxCuGv6"
      }
    },
    {
      "cell_type": "markdown",
      "source": [
        "The attributes \"province_state\" and \"admin2\" are filled with the mode value of each attribute because they are categorical variables"
      ],
      "metadata": {
        "id": "Q3eVSg4XuQbo"
      }
    },
    {
      "cell_type": "code",
      "source": [
        "df[\"province_state\"].value_counts()"
      ],
      "metadata": {
        "id": "nv8TexX0sOBH",
        "colab": {
          "base_uri": "https://localhost:8080/"
        },
        "outputId": "cc90ae50-dbc4-498d-e148-b461a09e4ad6"
      },
      "execution_count": null,
      "outputs": [
        {
          "output_type": "execute_result",
          "data": {
            "text/plain": [
              "Texas                      272341\n",
              "Georgia                    174190\n",
              "Virginia                   144970\n",
              "Kentucky                   130145\n",
              "Missouri                   125291\n",
              "                            ...  \n",
              "Wuhan Evacuee                   1\n",
              "External territories            1\n",
              "Unassigned Location, VT         1\n",
              "Jervis Bay Territory            1\n",
              "Queens County, NY               1\n",
              "Name: province_state, Length: 759, dtype: int64"
            ]
          },
          "metadata": {},
          "execution_count": 17
        }
      ]
    },
    {
      "cell_type": "code",
      "source": [
        "df[\"admin2\"].value_counts()"
      ],
      "metadata": {
        "id": "IRAPWs-33IQo",
        "colab": {
          "base_uri": "https://localhost:8080/"
        },
        "outputId": "ff92b81e-d78d-42f6-b785-1e618dbe3eb5"
      },
      "execution_count": null,
      "outputs": [
        {
          "output_type": "execute_result",
          "data": {
            "text/plain": [
              "Unassigned            54609\n",
              "Washington            32474\n",
              "Jefferson             28094\n",
              "Franklin              26988\n",
              "Lincoln               25827\n",
              "                      ...  \n",
              "Walla Walla County        1\n",
              "Garfield County           1\n",
              "Desoto                    1\n",
              "Brockton                  1\n",
              "Unknown                   1\n",
              "Name: admin2, Length: 1960, dtype: int64"
            ]
          },
          "metadata": {},
          "execution_count": 18
        }
      ]
    },
    {
      "cell_type": "code",
      "source": [
        "covid[\"province_state\"].fillna(\n",
        "    value=\"Texas\",\n",
        "    inplace=True\n",
        ")"
      ],
      "metadata": {
        "id": "x_uk-kUaSZq4"
      },
      "execution_count": null,
      "outputs": []
    },
    {
      "cell_type": "code",
      "source": [
        "covid[\"admin2\"].fillna(\n",
        "    value=\"Unassigned\",\n",
        "    inplace=True\n",
        ")"
      ],
      "metadata": {
        "id": "iRewqa623RP8"
      },
      "execution_count": null,
      "outputs": []
    },
    {
      "cell_type": "markdown",
      "source": [
        "The \"recovered\", \"active\", and \"deaths\" attributes are filled with the percentage of the mean value of each attribute to the \"confirmed\" mean value, because the number is tentative depending on the \"confirmed\" value."
      ],
      "metadata": {
        "id": "CafIHpZyuc18"
      }
    },
    {
      "cell_type": "code",
      "source": [
        "covid[\"recovered\"].fillna(\n",
        "    value= ((covid[\"confirmed\"])*0.22),\n",
        "    inplace=True\n",
        ")"
      ],
      "metadata": {
        "id": "iViqCwgjTC4K"
      },
      "execution_count": null,
      "outputs": []
    },
    {
      "cell_type": "markdown",
      "source": [
        "Mean value \"recovered\" = 16362 / nilai mean \"confirmed\" = 74242\n",
        "\n",
        "=0.22"
      ],
      "metadata": {
        "id": "hZFCzEt8nKwo"
      }
    },
    {
      "cell_type": "code",
      "source": [
        "covid[\"active\"].fillna(\n",
        "    value = ((covid[\"confirmed\"])*0.08),\n",
        "    inplace=True\n",
        ")"
      ],
      "metadata": {
        "id": "rccStW8_7PER"
      },
      "execution_count": null,
      "outputs": []
    },
    {
      "cell_type": "markdown",
      "source": [
        "Mean Value \"Active\" = 6557 / nilai mean \"confirmed\" = 74242\n",
        "\n",
        "=0.08"
      ],
      "metadata": {
        "id": "ETKiQYy4nmRz"
      }
    },
    {
      "cell_type": "code",
      "source": [
        "covid[\"deaths\"].fillna(\n",
        "    value=((covid[\"confirmed\"])*0.01),\n",
        "    inplace=True\n",
        ")"
      ],
      "metadata": {
        "id": "3T4oqazJ1NqX"
      },
      "execution_count": null,
      "outputs": []
    },
    {
      "cell_type": "markdown",
      "source": [
        "Mean value \"deaths\" = 742 / nilai mean \"confirmed\" = 74242\n",
        "\n",
        "=0.01"
      ],
      "metadata": {
        "id": "dYF2Q-ZTwP3k"
      }
    },
    {
      "cell_type": "code",
      "source": [
        "covid[\"fips\"].fillna(\n",
        "    value=(32288),\n",
        "    inplace=True\n",
        ")"
      ],
      "metadata": {
        "id": "RV4ZVReL2kHP"
      },
      "execution_count": null,
      "outputs": []
    },
    {
      "cell_type": "markdown",
      "source": [
        "For fips it is filled with its own mean value only"
      ],
      "metadata": {
        "id": "myUoZGciwge5"
      }
    },
    {
      "cell_type": "code",
      "source": [
        "covid_without_na = covid.dropna()\n",
        "covid_without_na.shape"
      ],
      "metadata": {
        "colab": {
          "base_uri": "https://localhost:8080/"
        },
        "id": "8qpqBsZp3--y",
        "outputId": "ee8976ee-df2e-4fac-aaa1-56ee1084edbb"
      },
      "execution_count": null,
      "outputs": [
        {
          "output_type": "execute_result",
          "data": {
            "text/plain": [
              "(4264060, 9)"
            ]
          },
          "metadata": {},
          "execution_count": 25
        }
      ]
    },
    {
      "cell_type": "markdown",
      "source": [
        "Eliminate the missing value on the \"confirmed\" attribute with dropna"
      ],
      "metadata": {
        "id": "vcuNpzEquymp"
      }
    },
    {
      "cell_type": "code",
      "source": [
        "covid_without_na.shape"
      ],
      "metadata": {
        "colab": {
          "base_uri": "https://localhost:8080/"
        },
        "id": "ITFM5OGsAyNj",
        "outputId": "fcf79d3d-dff3-4fa4-aa24-b9dfcc84374a"
      },
      "execution_count": null,
      "outputs": [
        {
          "output_type": "execute_result",
          "data": {
            "text/plain": [
              "(4264060, 9)"
            ]
          },
          "metadata": {},
          "execution_count": 26
        }
      ]
    },
    {
      "cell_type": "code",
      "source": [
        "covid_without_na.isnull().sum()"
      ],
      "metadata": {
        "id": "S1v8d9pC96IM",
        "colab": {
          "base_uri": "https://localhost:8080/"
        },
        "outputId": "661c657a-93c7-4056-c9b0-304d48d08d69"
      },
      "execution_count": null,
      "outputs": [
        {
          "output_type": "execute_result",
          "data": {
            "text/plain": [
              "province_state    0\n",
              "country_region    0\n",
              "date              0\n",
              "confirmed         0\n",
              "deaths            0\n",
              "recovered         0\n",
              "active            0\n",
              "fips              0\n",
              "admin2            0\n",
              "dtype: int64"
            ]
          },
          "metadata": {},
          "execution_count": 27
        }
      ]
    },
    {
      "cell_type": "markdown",
      "source": [
        "There are no missing values ​​in all attributes"
      ],
      "metadata": {
        "id": "KSjQGmbGz9F9"
      }
    },
    {
      "cell_type": "markdown",
      "source": [
        "####Handling invalid values"
      ],
      "metadata": {
        "id": "ZzPLhvbF0W3Z"
      }
    },
    {
      "cell_type": "code",
      "source": [
        "covid_without_na.describe().round()"
      ],
      "metadata": {
        "id": "3xxQ3YOO-BHf"
      },
      "execution_count": null,
      "outputs": []
    },
    {
      "cell_type": "markdown",
      "source": [
        "There are invalid values, namely negative values ​​on several attributes"
      ],
      "metadata": {
        "id": "nMfiFOmA0Cb7"
      }
    },
    {
      "cell_type": "code",
      "source": [
        "invalid_values_active=covid_without_na[(covid_without_na[\"active\"] < 0)].index\n",
        "covid_without_na.drop(invalid_values_active, inplace=True)"
      ],
      "metadata": {
        "id": "BJDXpdBzAyRr"
      },
      "execution_count": null,
      "outputs": []
    },
    {
      "cell_type": "markdown",
      "source": [
        "Eliminate invalid values, where the number of active cases is negative"
      ],
      "metadata": {
        "id": "q3UKdeunsIAv"
      }
    },
    {
      "cell_type": "code",
      "source": [
        "invalid_values_recovered=covid_without_na[(covid_without_na[\"recovered\"] < 0)].index\n",
        "covid_without_na.drop(invalid_values_recovered, inplace=True)"
      ],
      "metadata": {
        "id": "X8Xvznqom8y1"
      },
      "execution_count": null,
      "outputs": []
    },
    {
      "cell_type": "markdown",
      "source": [
        "Eliminate the invalid value, where the number of recovered cases is negative"
      ],
      "metadata": {
        "id": "z14L6YbOsRts"
      }
    },
    {
      "cell_type": "code",
      "source": [
        "invalid_values_deaths=covid_without_na[(covid_without_na[\"deaths\"] < 0)].index\n",
        "covid_without_na.drop(invalid_values_deaths, inplace=True)"
      ],
      "metadata": {
        "id": "GqXdZ-w3nRMx"
      },
      "execution_count": null,
      "outputs": []
    },
    {
      "cell_type": "markdown",
      "source": [
        "Eliminate the invalid value, where the death rate is negative"
      ],
      "metadata": {
        "id": "hY1J9QfQsbnC"
      }
    },
    {
      "cell_type": "code",
      "source": [
        "covid_without_na.describe().round()"
      ],
      "metadata": {
        "id": "D60-SlDD94Oi",
        "colab": {
          "base_uri": "https://localhost:8080/",
          "height": 297
        },
        "outputId": "03583669-6f4c-4416-fd58-3e71a21d40b2"
      },
      "execution_count": null,
      "outputs": [
        {
          "output_type": "execute_result",
          "data": {
            "text/plain": [
              "        confirmed     deaths  recovered      active       fips\n",
              "count   4259883.0  4259883.0  4259883.0   4259883.0  4259883.0\n",
              "mean      74307.0     1026.0    19794.0      7840.0    32266.0\n",
              "std      586743.0     6352.0   146819.0     65599.0    16215.0\n",
              "min           0.0        0.0        0.0         0.0       60.0\n",
              "25%         804.0       11.0        0.0       134.0    20199.0\n",
              "50%        3747.0       58.0      650.0       491.0    32288.0\n",
              "75%       16087.0      223.0     3354.0      2077.0    42041.0\n",
              "max    38618509.0   624641.0  8496071.0  10877758.0    99999.0"
            ],
            "text/html": [
              "\n",
              "  <div id=\"df-a48a6742-5306-44be-a674-9b3e6fb257ff\">\n",
              "    <div class=\"colab-df-container\">\n",
              "      <div>\n",
              "<style scoped>\n",
              "    .dataframe tbody tr th:only-of-type {\n",
              "        vertical-align: middle;\n",
              "    }\n",
              "\n",
              "    .dataframe tbody tr th {\n",
              "        vertical-align: top;\n",
              "    }\n",
              "\n",
              "    .dataframe thead th {\n",
              "        text-align: right;\n",
              "    }\n",
              "</style>\n",
              "<table border=\"1\" class=\"dataframe\">\n",
              "  <thead>\n",
              "    <tr style=\"text-align: right;\">\n",
              "      <th></th>\n",
              "      <th>confirmed</th>\n",
              "      <th>deaths</th>\n",
              "      <th>recovered</th>\n",
              "      <th>active</th>\n",
              "      <th>fips</th>\n",
              "    </tr>\n",
              "  </thead>\n",
              "  <tbody>\n",
              "    <tr>\n",
              "      <th>count</th>\n",
              "      <td>4259883.0</td>\n",
              "      <td>4259883.0</td>\n",
              "      <td>4259883.0</td>\n",
              "      <td>4259883.0</td>\n",
              "      <td>4259883.0</td>\n",
              "    </tr>\n",
              "    <tr>\n",
              "      <th>mean</th>\n",
              "      <td>74307.0</td>\n",
              "      <td>1026.0</td>\n",
              "      <td>19794.0</td>\n",
              "      <td>7840.0</td>\n",
              "      <td>32266.0</td>\n",
              "    </tr>\n",
              "    <tr>\n",
              "      <th>std</th>\n",
              "      <td>586743.0</td>\n",
              "      <td>6352.0</td>\n",
              "      <td>146819.0</td>\n",
              "      <td>65599.0</td>\n",
              "      <td>16215.0</td>\n",
              "    </tr>\n",
              "    <tr>\n",
              "      <th>min</th>\n",
              "      <td>0.0</td>\n",
              "      <td>0.0</td>\n",
              "      <td>0.0</td>\n",
              "      <td>0.0</td>\n",
              "      <td>60.0</td>\n",
              "    </tr>\n",
              "    <tr>\n",
              "      <th>25%</th>\n",
              "      <td>804.0</td>\n",
              "      <td>11.0</td>\n",
              "      <td>0.0</td>\n",
              "      <td>134.0</td>\n",
              "      <td>20199.0</td>\n",
              "    </tr>\n",
              "    <tr>\n",
              "      <th>50%</th>\n",
              "      <td>3747.0</td>\n",
              "      <td>58.0</td>\n",
              "      <td>650.0</td>\n",
              "      <td>491.0</td>\n",
              "      <td>32288.0</td>\n",
              "    </tr>\n",
              "    <tr>\n",
              "      <th>75%</th>\n",
              "      <td>16087.0</td>\n",
              "      <td>223.0</td>\n",
              "      <td>3354.0</td>\n",
              "      <td>2077.0</td>\n",
              "      <td>42041.0</td>\n",
              "    </tr>\n",
              "    <tr>\n",
              "      <th>max</th>\n",
              "      <td>38618509.0</td>\n",
              "      <td>624641.0</td>\n",
              "      <td>8496071.0</td>\n",
              "      <td>10877758.0</td>\n",
              "      <td>99999.0</td>\n",
              "    </tr>\n",
              "  </tbody>\n",
              "</table>\n",
              "</div>\n",
              "      <button class=\"colab-df-convert\" onclick=\"convertToInteractive('df-a48a6742-5306-44be-a674-9b3e6fb257ff')\"\n",
              "              title=\"Convert this dataframe to an interactive table.\"\n",
              "              style=\"display:none;\">\n",
              "        \n",
              "  <svg xmlns=\"http://www.w3.org/2000/svg\" height=\"24px\"viewBox=\"0 0 24 24\"\n",
              "       width=\"24px\">\n",
              "    <path d=\"M0 0h24v24H0V0z\" fill=\"none\"/>\n",
              "    <path d=\"M18.56 5.44l.94 2.06.94-2.06 2.06-.94-2.06-.94-.94-2.06-.94 2.06-2.06.94zm-11 1L8.5 8.5l.94-2.06 2.06-.94-2.06-.94L8.5 2.5l-.94 2.06-2.06.94zm10 10l.94 2.06.94-2.06 2.06-.94-2.06-.94-.94-2.06-.94 2.06-2.06.94z\"/><path d=\"M17.41 7.96l-1.37-1.37c-.4-.4-.92-.59-1.43-.59-.52 0-1.04.2-1.43.59L10.3 9.45l-7.72 7.72c-.78.78-.78 2.05 0 2.83L4 21.41c.39.39.9.59 1.41.59.51 0 1.02-.2 1.41-.59l7.78-7.78 2.81-2.81c.8-.78.8-2.07 0-2.86zM5.41 20L4 18.59l7.72-7.72 1.47 1.35L5.41 20z\"/>\n",
              "  </svg>\n",
              "      </button>\n",
              "      \n",
              "  <style>\n",
              "    .colab-df-container {\n",
              "      display:flex;\n",
              "      flex-wrap:wrap;\n",
              "      gap: 12px;\n",
              "    }\n",
              "\n",
              "    .colab-df-convert {\n",
              "      background-color: #E8F0FE;\n",
              "      border: none;\n",
              "      border-radius: 50%;\n",
              "      cursor: pointer;\n",
              "      display: none;\n",
              "      fill: #1967D2;\n",
              "      height: 32px;\n",
              "      padding: 0 0 0 0;\n",
              "      width: 32px;\n",
              "    }\n",
              "\n",
              "    .colab-df-convert:hover {\n",
              "      background-color: #E2EBFA;\n",
              "      box-shadow: 0px 1px 2px rgba(60, 64, 67, 0.3), 0px 1px 3px 1px rgba(60, 64, 67, 0.15);\n",
              "      fill: #174EA6;\n",
              "    }\n",
              "\n",
              "    [theme=dark] .colab-df-convert {\n",
              "      background-color: #3B4455;\n",
              "      fill: #D2E3FC;\n",
              "    }\n",
              "\n",
              "    [theme=dark] .colab-df-convert:hover {\n",
              "      background-color: #434B5C;\n",
              "      box-shadow: 0px 1px 3px 1px rgba(0, 0, 0, 0.15);\n",
              "      filter: drop-shadow(0px 1px 2px rgba(0, 0, 0, 0.3));\n",
              "      fill: #FFFFFF;\n",
              "    }\n",
              "  </style>\n",
              "\n",
              "      <script>\n",
              "        const buttonEl =\n",
              "          document.querySelector('#df-a48a6742-5306-44be-a674-9b3e6fb257ff button.colab-df-convert');\n",
              "        buttonEl.style.display =\n",
              "          google.colab.kernel.accessAllowed ? 'block' : 'none';\n",
              "\n",
              "        async function convertToInteractive(key) {\n",
              "          const element = document.querySelector('#df-a48a6742-5306-44be-a674-9b3e6fb257ff');\n",
              "          const dataTable =\n",
              "            await google.colab.kernel.invokeFunction('convertToInteractive',\n",
              "                                                     [key], {});\n",
              "          if (!dataTable) return;\n",
              "\n",
              "          const docLinkHtml = 'Like what you see? Visit the ' +\n",
              "            '<a target=\"_blank\" href=https://colab.research.google.com/notebooks/data_table.ipynb>data table notebook</a>'\n",
              "            + ' to learn more about interactive tables.';\n",
              "          element.innerHTML = '';\n",
              "          dataTable['output_type'] = 'display_data';\n",
              "          await google.colab.output.renderOutput(dataTable, element);\n",
              "          const docLink = document.createElement('div');\n",
              "          docLink.innerHTML = docLinkHtml;\n",
              "          element.appendChild(docLink);\n",
              "        }\n",
              "      </script>\n",
              "    </div>\n",
              "  </div>\n",
              "  "
            ]
          },
          "metadata": {},
          "execution_count": 43
        }
      ]
    },
    {
      "cell_type": "markdown",
      "source": [
        "There are no invalid/negative values ​​anymore"
      ],
      "metadata": {
        "id": "37nj3P9J0_bc"
      }
    },
    {
      "cell_type": "code",
      "source": [
        "covid_without_na.info()"
      ],
      "metadata": {
        "id": "lRuTeUluAXAP"
      },
      "execution_count": null,
      "outputs": []
    },
    {
      "cell_type": "code",
      "source": [
        "covid_without_na.tail()"
      ],
      "metadata": {
        "id": "8HoOMSOK-3ci"
      },
      "execution_count": null,
      "outputs": []
    },
    {
      "cell_type": "code",
      "source": [
        "covid_without_na[\"province_state\"] = covid_without_na.province_state.astype('object')\n",
        "covid_without_na[\"date\"] = pd.to_datetime(covid_without_na[\"date\"])\n",
        "covid_without_na[\"confirmed\"] = covid_without_na.confirmed.astype('int')\n",
        "covid_without_na[\"deaths\"] = covid_without_na.deaths.astype('int')\n",
        "covid_without_na[\"recovered\"] = covid_without_na.recovered.astype('int')\n",
        "covid_without_na[\"active\"] = covid_without_na.active.astype('int')\n",
        "covid_without_na[\"fips\"] = covid_without_na.fips.astype('int')"
      ],
      "metadata": {
        "id": "iA_81euVEq3I"
      },
      "execution_count": null,
      "outputs": []
    },
    {
      "cell_type": "markdown",
      "source": [
        "Change the data type"
      ],
      "metadata": {
        "id": "JK_NHZmMr94V"
      }
    },
    {
      "cell_type": "markdown",
      "source": [
        "#v. Exploratory Data Analysis (EDA)"
      ],
      "metadata": {
        "id": "XfXs6cFiJXFH"
      }
    },
    {
      "cell_type": "markdown",
      "source": [
        "#### Queries on Datasets"
      ],
      "metadata": {
        "id": "MnXXZV4R1vyD"
      }
    },
    {
      "cell_type": "code",
      "source": [
        "covid_without_na.query('confirmed == confirmed.max()')"
      ],
      "metadata": {
        "id": "Ga35GCI7LpFS",
        "colab": {
          "base_uri": "https://localhost:8080/",
          "height": 129
        },
        "outputId": "e2d49fd9-43fd-4dba-b175-cd4ab8f86581"
      },
      "execution_count": null,
      "outputs": [
        {
          "output_type": "execute_result",
          "data": {
            "text/plain": [
              "        province_state country_region       date  confirmed  deaths  \\\n",
              "1063940          Texas         France 2023-03-09   38618509  161512   \n",
              "\n",
              "         recovered   active   fips      admin2  \n",
              "1063940    8496071  3089480  32288  Unassigned  "
            ],
            "text/html": [
              "\n",
              "  <div id=\"df-a1bd28bd-36ef-4399-bbec-a7294151322f\">\n",
              "    <div class=\"colab-df-container\">\n",
              "      <div>\n",
              "<style scoped>\n",
              "    .dataframe tbody tr th:only-of-type {\n",
              "        vertical-align: middle;\n",
              "    }\n",
              "\n",
              "    .dataframe tbody tr th {\n",
              "        vertical-align: top;\n",
              "    }\n",
              "\n",
              "    .dataframe thead th {\n",
              "        text-align: right;\n",
              "    }\n",
              "</style>\n",
              "<table border=\"1\" class=\"dataframe\">\n",
              "  <thead>\n",
              "    <tr style=\"text-align: right;\">\n",
              "      <th></th>\n",
              "      <th>province_state</th>\n",
              "      <th>country_region</th>\n",
              "      <th>date</th>\n",
              "      <th>confirmed</th>\n",
              "      <th>deaths</th>\n",
              "      <th>recovered</th>\n",
              "      <th>active</th>\n",
              "      <th>fips</th>\n",
              "      <th>admin2</th>\n",
              "    </tr>\n",
              "  </thead>\n",
              "  <tbody>\n",
              "    <tr>\n",
              "      <th>1063940</th>\n",
              "      <td>Texas</td>\n",
              "      <td>France</td>\n",
              "      <td>2023-03-09</td>\n",
              "      <td>38618509</td>\n",
              "      <td>161512</td>\n",
              "      <td>8496071</td>\n",
              "      <td>3089480</td>\n",
              "      <td>32288</td>\n",
              "      <td>Unassigned</td>\n",
              "    </tr>\n",
              "  </tbody>\n",
              "</table>\n",
              "</div>\n",
              "      <button class=\"colab-df-convert\" onclick=\"convertToInteractive('df-a1bd28bd-36ef-4399-bbec-a7294151322f')\"\n",
              "              title=\"Convert this dataframe to an interactive table.\"\n",
              "              style=\"display:none;\">\n",
              "        \n",
              "  <svg xmlns=\"http://www.w3.org/2000/svg\" height=\"24px\"viewBox=\"0 0 24 24\"\n",
              "       width=\"24px\">\n",
              "    <path d=\"M0 0h24v24H0V0z\" fill=\"none\"/>\n",
              "    <path d=\"M18.56 5.44l.94 2.06.94-2.06 2.06-.94-2.06-.94-.94-2.06-.94 2.06-2.06.94zm-11 1L8.5 8.5l.94-2.06 2.06-.94-2.06-.94L8.5 2.5l-.94 2.06-2.06.94zm10 10l.94 2.06.94-2.06 2.06-.94-2.06-.94-.94-2.06-.94 2.06-2.06.94z\"/><path d=\"M17.41 7.96l-1.37-1.37c-.4-.4-.92-.59-1.43-.59-.52 0-1.04.2-1.43.59L10.3 9.45l-7.72 7.72c-.78.78-.78 2.05 0 2.83L4 21.41c.39.39.9.59 1.41.59.51 0 1.02-.2 1.41-.59l7.78-7.78 2.81-2.81c.8-.78.8-2.07 0-2.86zM5.41 20L4 18.59l7.72-7.72 1.47 1.35L5.41 20z\"/>\n",
              "  </svg>\n",
              "      </button>\n",
              "      \n",
              "  <style>\n",
              "    .colab-df-container {\n",
              "      display:flex;\n",
              "      flex-wrap:wrap;\n",
              "      gap: 12px;\n",
              "    }\n",
              "\n",
              "    .colab-df-convert {\n",
              "      background-color: #E8F0FE;\n",
              "      border: none;\n",
              "      border-radius: 50%;\n",
              "      cursor: pointer;\n",
              "      display: none;\n",
              "      fill: #1967D2;\n",
              "      height: 32px;\n",
              "      padding: 0 0 0 0;\n",
              "      width: 32px;\n",
              "    }\n",
              "\n",
              "    .colab-df-convert:hover {\n",
              "      background-color: #E2EBFA;\n",
              "      box-shadow: 0px 1px 2px rgba(60, 64, 67, 0.3), 0px 1px 3px 1px rgba(60, 64, 67, 0.15);\n",
              "      fill: #174EA6;\n",
              "    }\n",
              "\n",
              "    [theme=dark] .colab-df-convert {\n",
              "      background-color: #3B4455;\n",
              "      fill: #D2E3FC;\n",
              "    }\n",
              "\n",
              "    [theme=dark] .colab-df-convert:hover {\n",
              "      background-color: #434B5C;\n",
              "      box-shadow: 0px 1px 3px 1px rgba(0, 0, 0, 0.15);\n",
              "      filter: drop-shadow(0px 1px 2px rgba(0, 0, 0, 0.3));\n",
              "      fill: #FFFFFF;\n",
              "    }\n",
              "  </style>\n",
              "\n",
              "      <script>\n",
              "        const buttonEl =\n",
              "          document.querySelector('#df-a1bd28bd-36ef-4399-bbec-a7294151322f button.colab-df-convert');\n",
              "        buttonEl.style.display =\n",
              "          google.colab.kernel.accessAllowed ? 'block' : 'none';\n",
              "\n",
              "        async function convertToInteractive(key) {\n",
              "          const element = document.querySelector('#df-a1bd28bd-36ef-4399-bbec-a7294151322f');\n",
              "          const dataTable =\n",
              "            await google.colab.kernel.invokeFunction('convertToInteractive',\n",
              "                                                     [key], {});\n",
              "          if (!dataTable) return;\n",
              "\n",
              "          const docLinkHtml = 'Like what you see? Visit the ' +\n",
              "            '<a target=\"_blank\" href=https://colab.research.google.com/notebooks/data_table.ipynb>data table notebook</a>'\n",
              "            + ' to learn more about interactive tables.';\n",
              "          element.innerHTML = '';\n",
              "          dataTable['output_type'] = 'display_data';\n",
              "          await google.colab.output.renderOutput(dataTable, element);\n",
              "          const docLink = document.createElement('div');\n",
              "          docLink.innerHTML = docLinkHtml;\n",
              "          element.appendChild(docLink);\n",
              "        }\n",
              "      </script>\n",
              "    </div>\n",
              "  </div>\n",
              "  "
            ]
          },
          "metadata": {},
          "execution_count": 37
        }
      ]
    },
    {
      "cell_type": "markdown",
      "source": [
        "The input with the highest \"confirmed\" covid number is in line 1063940 with \"province_state\" = \"Texas\" and \"country_region\" = \"France\""
      ],
      "metadata": {
        "id": "qgG1-Se00S8g"
      }
    },
    {
      "cell_type": "code",
      "source": [
        "covid_without_na.query('recovered == recovered.max()')"
      ],
      "metadata": {
        "id": "KsmYnfLhmnSi"
      },
      "execution_count": null,
      "outputs": []
    },
    {
      "cell_type": "markdown",
      "source": [
        "Then check the highest \"recovered\" value, and find the same row in the previous query,\n",
        "\n",
        "where this explains that the \"recovered\" value is directly proportional to the \"confirmed\" value."
      ],
      "metadata": {
        "id": "bWHDxVEZ02H0"
      }
    },
    {
      "cell_type": "code",
      "source": [
        "covid_without_na[(covid_without_na['confirmed'] == 0)]"
      ],
      "metadata": {
        "id": "4_PCeGiQn2VK",
        "colab": {
          "base_uri": "https://localhost:8080/",
          "height": 621
        },
        "outputId": "97c17ad6-2584-4331-b8ec-5c8a19ba0f61"
      },
      "execution_count": null,
      "outputs": [
        {
          "output_type": "execute_result",
          "data": {
            "text/plain": [
              "         province_state country_region       date  confirmed  deaths  \\\n",
              "289              Nevada             US 2020-05-15          0       0   \n",
              "383          California             US 2020-05-15          0       0   \n",
              "533             Unknown          India 2022-05-26          0       0   \n",
              "1000          Recovered             US 2022-05-26          0       0   \n",
              "1010     South Carolina             US 2022-05-26          0       0   \n",
              "...                 ...            ...        ...        ...     ...   \n",
              "4263509         Unknown         Mexico 2022-09-29          0       0   \n",
              "4263563         Arizona             US 2022-09-29          0       0   \n",
              "4263705          Kansas             US 2022-09-29          0       0   \n",
              "4263935    Pennsylvania             US 2022-09-29          0       0   \n",
              "4263969    South Dakota             US 2022-09-29          0       0   \n",
              "\n",
              "         recovered  active   fips      admin2  \n",
              "289              0       0  32027    Pershing  \n",
              "383              0       0  90006  Unassigned  \n",
              "533              0       0  32288  Unassigned  \n",
              "1000             0       0  32288  Unassigned  \n",
              "1010             0       0  90045  Unassigned  \n",
              "...            ...     ...    ...         ...  \n",
              "4263509          0       0  32288  Unassigned  \n",
              "4263563          0       0  90004  Unassigned  \n",
              "4263705          0       0  90020  Unassigned  \n",
              "4263935          0       0  90042  Unassigned  \n",
              "4263969          0       0  90046  Unassigned  \n",
              "\n",
              "[58517 rows x 9 columns]"
            ],
            "text/html": [
              "\n",
              "  <div id=\"df-2fa08c5b-6dc8-4bbd-82fc-5c1f2619c370\">\n",
              "    <div class=\"colab-df-container\">\n",
              "      <div>\n",
              "<style scoped>\n",
              "    .dataframe tbody tr th:only-of-type {\n",
              "        vertical-align: middle;\n",
              "    }\n",
              "\n",
              "    .dataframe tbody tr th {\n",
              "        vertical-align: top;\n",
              "    }\n",
              "\n",
              "    .dataframe thead th {\n",
              "        text-align: right;\n",
              "    }\n",
              "</style>\n",
              "<table border=\"1\" class=\"dataframe\">\n",
              "  <thead>\n",
              "    <tr style=\"text-align: right;\">\n",
              "      <th></th>\n",
              "      <th>province_state</th>\n",
              "      <th>country_region</th>\n",
              "      <th>date</th>\n",
              "      <th>confirmed</th>\n",
              "      <th>deaths</th>\n",
              "      <th>recovered</th>\n",
              "      <th>active</th>\n",
              "      <th>fips</th>\n",
              "      <th>admin2</th>\n",
              "    </tr>\n",
              "  </thead>\n",
              "  <tbody>\n",
              "    <tr>\n",
              "      <th>289</th>\n",
              "      <td>Nevada</td>\n",
              "      <td>US</td>\n",
              "      <td>2020-05-15</td>\n",
              "      <td>0</td>\n",
              "      <td>0</td>\n",
              "      <td>0</td>\n",
              "      <td>0</td>\n",
              "      <td>32027</td>\n",
              "      <td>Pershing</td>\n",
              "    </tr>\n",
              "    <tr>\n",
              "      <th>383</th>\n",
              "      <td>California</td>\n",
              "      <td>US</td>\n",
              "      <td>2020-05-15</td>\n",
              "      <td>0</td>\n",
              "      <td>0</td>\n",
              "      <td>0</td>\n",
              "      <td>0</td>\n",
              "      <td>90006</td>\n",
              "      <td>Unassigned</td>\n",
              "    </tr>\n",
              "    <tr>\n",
              "      <th>533</th>\n",
              "      <td>Unknown</td>\n",
              "      <td>India</td>\n",
              "      <td>2022-05-26</td>\n",
              "      <td>0</td>\n",
              "      <td>0</td>\n",
              "      <td>0</td>\n",
              "      <td>0</td>\n",
              "      <td>32288</td>\n",
              "      <td>Unassigned</td>\n",
              "    </tr>\n",
              "    <tr>\n",
              "      <th>1000</th>\n",
              "      <td>Recovered</td>\n",
              "      <td>US</td>\n",
              "      <td>2022-05-26</td>\n",
              "      <td>0</td>\n",
              "      <td>0</td>\n",
              "      <td>0</td>\n",
              "      <td>0</td>\n",
              "      <td>32288</td>\n",
              "      <td>Unassigned</td>\n",
              "    </tr>\n",
              "    <tr>\n",
              "      <th>1010</th>\n",
              "      <td>South Carolina</td>\n",
              "      <td>US</td>\n",
              "      <td>2022-05-26</td>\n",
              "      <td>0</td>\n",
              "      <td>0</td>\n",
              "      <td>0</td>\n",
              "      <td>0</td>\n",
              "      <td>90045</td>\n",
              "      <td>Unassigned</td>\n",
              "    </tr>\n",
              "    <tr>\n",
              "      <th>...</th>\n",
              "      <td>...</td>\n",
              "      <td>...</td>\n",
              "      <td>...</td>\n",
              "      <td>...</td>\n",
              "      <td>...</td>\n",
              "      <td>...</td>\n",
              "      <td>...</td>\n",
              "      <td>...</td>\n",
              "      <td>...</td>\n",
              "    </tr>\n",
              "    <tr>\n",
              "      <th>4263509</th>\n",
              "      <td>Unknown</td>\n",
              "      <td>Mexico</td>\n",
              "      <td>2022-09-29</td>\n",
              "      <td>0</td>\n",
              "      <td>0</td>\n",
              "      <td>0</td>\n",
              "      <td>0</td>\n",
              "      <td>32288</td>\n",
              "      <td>Unassigned</td>\n",
              "    </tr>\n",
              "    <tr>\n",
              "      <th>4263563</th>\n",
              "      <td>Arizona</td>\n",
              "      <td>US</td>\n",
              "      <td>2022-09-29</td>\n",
              "      <td>0</td>\n",
              "      <td>0</td>\n",
              "      <td>0</td>\n",
              "      <td>0</td>\n",
              "      <td>90004</td>\n",
              "      <td>Unassigned</td>\n",
              "    </tr>\n",
              "    <tr>\n",
              "      <th>4263705</th>\n",
              "      <td>Kansas</td>\n",
              "      <td>US</td>\n",
              "      <td>2022-09-29</td>\n",
              "      <td>0</td>\n",
              "      <td>0</td>\n",
              "      <td>0</td>\n",
              "      <td>0</td>\n",
              "      <td>90020</td>\n",
              "      <td>Unassigned</td>\n",
              "    </tr>\n",
              "    <tr>\n",
              "      <th>4263935</th>\n",
              "      <td>Pennsylvania</td>\n",
              "      <td>US</td>\n",
              "      <td>2022-09-29</td>\n",
              "      <td>0</td>\n",
              "      <td>0</td>\n",
              "      <td>0</td>\n",
              "      <td>0</td>\n",
              "      <td>90042</td>\n",
              "      <td>Unassigned</td>\n",
              "    </tr>\n",
              "    <tr>\n",
              "      <th>4263969</th>\n",
              "      <td>South Dakota</td>\n",
              "      <td>US</td>\n",
              "      <td>2022-09-29</td>\n",
              "      <td>0</td>\n",
              "      <td>0</td>\n",
              "      <td>0</td>\n",
              "      <td>0</td>\n",
              "      <td>90046</td>\n",
              "      <td>Unassigned</td>\n",
              "    </tr>\n",
              "  </tbody>\n",
              "</table>\n",
              "<p>58517 rows × 9 columns</p>\n",
              "</div>\n",
              "      <button class=\"colab-df-convert\" onclick=\"convertToInteractive('df-2fa08c5b-6dc8-4bbd-82fc-5c1f2619c370')\"\n",
              "              title=\"Convert this dataframe to an interactive table.\"\n",
              "              style=\"display:none;\">\n",
              "        \n",
              "  <svg xmlns=\"http://www.w3.org/2000/svg\" height=\"24px\"viewBox=\"0 0 24 24\"\n",
              "       width=\"24px\">\n",
              "    <path d=\"M0 0h24v24H0V0z\" fill=\"none\"/>\n",
              "    <path d=\"M18.56 5.44l.94 2.06.94-2.06 2.06-.94-2.06-.94-.94-2.06-.94 2.06-2.06.94zm-11 1L8.5 8.5l.94-2.06 2.06-.94-2.06-.94L8.5 2.5l-.94 2.06-2.06.94zm10 10l.94 2.06.94-2.06 2.06-.94-2.06-.94-.94-2.06-.94 2.06-2.06.94z\"/><path d=\"M17.41 7.96l-1.37-1.37c-.4-.4-.92-.59-1.43-.59-.52 0-1.04.2-1.43.59L10.3 9.45l-7.72 7.72c-.78.78-.78 2.05 0 2.83L4 21.41c.39.39.9.59 1.41.59.51 0 1.02-.2 1.41-.59l7.78-7.78 2.81-2.81c.8-.78.8-2.07 0-2.86zM5.41 20L4 18.59l7.72-7.72 1.47 1.35L5.41 20z\"/>\n",
              "  </svg>\n",
              "      </button>\n",
              "      \n",
              "  <style>\n",
              "    .colab-df-container {\n",
              "      display:flex;\n",
              "      flex-wrap:wrap;\n",
              "      gap: 12px;\n",
              "    }\n",
              "\n",
              "    .colab-df-convert {\n",
              "      background-color: #E8F0FE;\n",
              "      border: none;\n",
              "      border-radius: 50%;\n",
              "      cursor: pointer;\n",
              "      display: none;\n",
              "      fill: #1967D2;\n",
              "      height: 32px;\n",
              "      padding: 0 0 0 0;\n",
              "      width: 32px;\n",
              "    }\n",
              "\n",
              "    .colab-df-convert:hover {\n",
              "      background-color: #E2EBFA;\n",
              "      box-shadow: 0px 1px 2px rgba(60, 64, 67, 0.3), 0px 1px 3px 1px rgba(60, 64, 67, 0.15);\n",
              "      fill: #174EA6;\n",
              "    }\n",
              "\n",
              "    [theme=dark] .colab-df-convert {\n",
              "      background-color: #3B4455;\n",
              "      fill: #D2E3FC;\n",
              "    }\n",
              "\n",
              "    [theme=dark] .colab-df-convert:hover {\n",
              "      background-color: #434B5C;\n",
              "      box-shadow: 0px 1px 3px 1px rgba(0, 0, 0, 0.15);\n",
              "      filter: drop-shadow(0px 1px 2px rgba(0, 0, 0, 0.3));\n",
              "      fill: #FFFFFF;\n",
              "    }\n",
              "  </style>\n",
              "\n",
              "      <script>\n",
              "        const buttonEl =\n",
              "          document.querySelector('#df-2fa08c5b-6dc8-4bbd-82fc-5c1f2619c370 button.colab-df-convert');\n",
              "        buttonEl.style.display =\n",
              "          google.colab.kernel.accessAllowed ? 'block' : 'none';\n",
              "\n",
              "        async function convertToInteractive(key) {\n",
              "          const element = document.querySelector('#df-2fa08c5b-6dc8-4bbd-82fc-5c1f2619c370');\n",
              "          const dataTable =\n",
              "            await google.colab.kernel.invokeFunction('convertToInteractive',\n",
              "                                                     [key], {});\n",
              "          if (!dataTable) return;\n",
              "\n",
              "          const docLinkHtml = 'Like what you see? Visit the ' +\n",
              "            '<a target=\"_blank\" href=https://colab.research.google.com/notebooks/data_table.ipynb>data table notebook</a>'\n",
              "            + ' to learn more about interactive tables.';\n",
              "          element.innerHTML = '';\n",
              "          dataTable['output_type'] = 'display_data';\n",
              "          await google.colab.output.renderOutput(dataTable, element);\n",
              "          const docLink = document.createElement('div');\n",
              "          docLink.innerHTML = docLinkHtml;\n",
              "          element.appendChild(docLink);\n",
              "        }\n",
              "      </script>\n",
              "    </div>\n",
              "  </div>\n",
              "  "
            ]
          },
          "metadata": {},
          "execution_count": 125
        }
      ]
    },
    {
      "cell_type": "markdown",
      "source": [
        "Following are some countries where there are no \"confirmed\" covid cases in the following lines, namely 58517 lines."
      ],
      "metadata": {
        "id": "dt0O7FeM1akD"
      }
    },
    {
      "cell_type": "code",
      "source": [
        "covid_without_na[(covid_without_na['confirmed'] == 0) & (covid_without_na['country_region'] == \"Texas\")]"
      ],
      "metadata": {
        "id": "s4J81nuFpnar"
      },
      "execution_count": null,
      "outputs": []
    },
    {
      "cell_type": "markdown",
      "source": [
        "###Grouping dan Aggregating"
      ],
      "metadata": {
        "id": "_4LmDXWeqH2w"
      }
    },
    {
      "cell_type": "code",
      "source": [
        "covid_without_na.groupby(\"country_region\", sort=False)[\"confirmed\"].sum()"
      ],
      "metadata": {
        "id": "ipkxo7Dmrah0",
        "colab": {
          "base_uri": "https://localhost:8080/"
        },
        "outputId": "45fa4b18-a231-4126-a804-6575807a6c3c"
      },
      "execution_count": null,
      "outputs": [
        {
          "output_type": "execute_result",
          "data": {
            "text/plain": [
              "country_region\n",
              "US                53726475521\n",
              "Canada             2259861735\n",
              "China              1156479544\n",
              "United Kingdom    12125403948\n",
              "Netherlands        4109328781\n",
              "                     ...     \n",
              "St. Martin                  2\n",
              "North Ireland               1\n",
              "Ivory Coast                 1\n",
              "Cape Verde                  1\n",
              "East Timor                  1\n",
              "Name: confirmed, Length: 252, dtype: int64"
            ]
          },
          "metadata": {},
          "execution_count": 110
        }
      ]
    },
    {
      "cell_type": "markdown",
      "source": [
        "It was found that \"country_region\" = \"US\" had the most \"confirmed\" cases totaling 53726475521 cases."
      ],
      "metadata": {
        "id": "nQ8V6w252GKm"
      }
    },
    {
      "cell_type": "code",
      "source": [
        "covid_without_na.groupby([\"country_region\"], sort=False)[\"confirmed\"].mean()"
      ],
      "metadata": {
        "id": "IpF0ZCkDmM8u"
      },
      "execution_count": null,
      "outputs": []
    },
    {
      "cell_type": "markdown",
      "source": [
        "It was found that the country with the highest average number of \"confirmed\" covid cases was the United Kingdom, which was 688630"
      ],
      "metadata": {
        "id": "DmFOn_YGnG1X"
      }
    },
    {
      "cell_type": "code",
      "source": [
        "covid_without_na[\"province_state\"].value_counts()"
      ],
      "metadata": {
        "colab": {
          "base_uri": "https://localhost:8080/"
        },
        "id": "Y_pYVH0lqSNF",
        "outputId": "739e1893-5c9d-451f-bf3f-984a046589ad"
      },
      "execution_count": null,
      "outputs": [
        {
          "output_type": "execute_result",
          "data": {
            "text/plain": [
              "Texas                      464178\n",
              "Georgia                    174190\n",
              "Virginia                   144960\n",
              "Kentucky                   130145\n",
              "Missouri                   125288\n",
              "                            ...  \n",
              "Jefferson County, KY            1\n",
              "Fench Guiana                    1\n",
              "Jervis Bay Territory            1\n",
              "Unassigned Location, VT         1\n",
              "Queens County, NY               1\n",
              "Name: province_state, Length: 759, dtype: int64"
            ]
          },
          "metadata": {},
          "execution_count": 108
        }
      ]
    },
    {
      "cell_type": "markdown",
      "source": [
        "The frequency of occurrence of covid cases every day most often appears from \"province_state\" = \"Texas\""
      ],
      "metadata": {
        "id": "tEq2-cSlqzq5"
      }
    },
    {
      "cell_type": "markdown",
      "source": [
        "###Data Visualization"
      ],
      "metadata": {
        "id": "dRzN1O0XrslL"
      }
    },
    {
      "cell_type": "code",
      "source": [
        "%matplotlib inline"
      ],
      "metadata": {
        "id": "uSrlMYFgrhta"
      },
      "execution_count": null,
      "outputs": []
    },
    {
      "cell_type": "code",
      "source": [
        "covid_without_na[covid_without_na[\"province_state\"] == \"Texas\"].groupby(\"date\")[\"confirmed\"].sum().plot()"
      ],
      "metadata": {
        "colab": {
          "base_uri": "https://localhost:8080/",
          "height": 498
        },
        "id": "p8rKbNp7rrjv",
        "outputId": "181692d1-09a4-42de-a494-f37ff1d0ebe9"
      },
      "execution_count": null,
      "outputs": [
        {
          "output_type": "execute_result",
          "data": {
            "text/plain": [
              "<Axes: xlabel='date'>"
            ]
          },
          "metadata": {},
          "execution_count": 104
        },
        {
          "output_type": "display_data",
          "data": {
            "text/plain": [
              "<Figure size 640x480 with 1 Axes>"
            ],
            "image/png": "[encoded data removed]"
          },
          "metadata": {}
        }
      ]
    },
    {
      "cell_type": "code",
      "source": [
        "covid_without_na[covid_without_na[\"country_region\"] == \"France\"].groupby(\"date\")[\"confirmed\"].sum().plot()"
      ],
      "metadata": {
        "colab": {
          "base_uri": "https://localhost:8080/",
          "height": 498
        },
        "id": "GH5NgIDDsfhD",
        "outputId": "cf6ecddf-f361-43e8-ae46-928880f93cfb"
      },
      "execution_count": null,
      "outputs": [
        {
          "output_type": "execute_result",
          "data": {
            "text/plain": [
              "<Axes: xlabel='date'>"
            ]
          },
          "metadata": {},
          "execution_count": 114
        },
        {
          "output_type": "display_data",
          "data": {
            "text/plain": [
              "<Figure size 640x480 with 1 Axes>"
            ],
            "image/png": "[encoded data removed]"
          },
          "metadata": {}
        }
      ]
    },
    {
      "cell_type": "markdown",
      "source": [
        "From the two plots above, it can be seen that a spike in Covid-19 cases occurred after Jan-2022"
      ],
      "metadata": {
        "id": "9PIguYkjPvNm"
      }
    },
    {
      "cell_type": "code",
      "source": [
        "covid_without_na.groupby(\"province_state\", sort=False)[\"recovered\"].sum().head(10).plot(kind=\"bar\")"
      ],
      "metadata": {
        "colab": {
          "base_uri": "https://localhost:8080/",
          "height": 577
        },
        "id": "SWzeweWvvXPM",
        "outputId": "94d973d2-7c6e-46ff-b92a-41da7dceb24b"
      },
      "execution_count": null,
      "outputs": [
        {
          "output_type": "execute_result",
          "data": {
            "text/plain": [
              "<Axes: xlabel='province_state'>"
            ]
          },
          "metadata": {},
          "execution_count": 123
        },
        {
          "output_type": "display_data",
          "data": {
            "text/plain": [
              "<Figure size 640x480 with 1 Axes>"
            ],
            "image/png": "[encoded data removed]"
          },
          "metadata": {}
        }
      ]
    },
    {
      "cell_type": "markdown",
      "source": [
        "The graph above shows that the state of \"New York\" is the state with the highest \"recovered\" rate compared to the others"
      ],
      "metadata": {
        "id": "uynOQI9ZvzSa"
      }
    },
    {
      "cell_type": "markdown",
      "source": [
        "#vi. Conclusion"
      ],
      "metadata": {
        "id": "GDI935_BvsrC"
      }
    },
    {
      "cell_type": "markdown",
      "source": [
        " *   The state of \"Texas\" is the area with the most new cases of Covid-19 every day, so new regulations are needed that can reduce new cases.\n",
        "\n",
        "\n",
        "*   The state of \"New York\" is the area with the highest \"Recovered\" rate so that it can reduce the number of active cases. It needs to be used as an example for other states in implementing health protocols.\n",
        "\n",
        "\n",
        "\n",
        "*   The high spike in Covid cases occurred after January 2022. This needs to be investigated in terms of health protocol factors and changes in the number of residents in the area.\n",
        "\n",
        "\n",
        "\n",
        "\n"
      ],
      "metadata": {
        "id": "ifAHbD07vxS3"
      }
    }
  ]
}