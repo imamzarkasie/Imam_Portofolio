{
  "nbformat": 4,
  "nbformat_minor": 0,
  "metadata": {
    "colab": {
      "provenance": [],
      "toc_visible": true
    },
    "kernelspec": {
      "name": "python3",
      "display_name": "Python 3"
    },
    "language_info": {
      "name": "python"
    }
  },
  "cells": [
    {
      "cell_type": "markdown",
      "source": [
        "#Introduction\n",
        "\n",
        "Name: Imam Buchori Zarkasie\n"
      ],
      "metadata": {
        "id": "dX3CF4_mCdAF"
      }
    },
    {
      "cell_type": "markdown",
      "source": [
        "#Problem Statement\n",
        "\n",
        "Analyzing superhero images for image classification purposes to differentiate between Superman and Batman images. The image will be calculated similarity with the cosine similarity matrix."
      ],
      "metadata": {
        "id": "QVIzCfa-CuEy"
      }
    },
    {
      "cell_type": "markdown",
      "source": [
        "## Import Library"
      ],
      "metadata": {
        "id": "YXIgKykkDDPD"
      }
    },
    {
      "cell_type": "code",
      "execution_count": null,
      "metadata": {
        "id": "MUrTSZyyBlvG"
      },
      "outputs": [],
      "source": [
        "import pandas as pd\n",
        "import matplotlib.pyplot as plt\n",
        "import numpy as np\n",
        "import tensorflow as tf\n",
        "from google.colab import files\n",
        "from PIL import Image"
      ]
    },
    {
      "cell_type": "markdown",
      "source": [
        "## Data Loading"
      ],
      "metadata": {
        "id": "ApT10CgHDUh8"
      }
    },
    {
      "cell_type": "code",
      "source": [
        "#Opens an image from a Google Colab uploaded file\n",
        "img_raw_1 = Image.open('mar-daniel-garcia-8-bit-art-superman.jpg')\n",
        "img_raw_2 = Image.open('mar-daniel-garcia-8-bit-art-batman.jpg')"
      ],
      "metadata": {
        "id": "RaxkwQRWNS4Y"
      },
      "execution_count": null,
      "outputs": []
    },
    {
      "cell_type": "code",
      "source": [
        "#Converts images to arrays\n",
        "tensor_1= np.array(img_raw_1)\n",
        "tensor_2= np.array(img_raw_2)"
      ],
      "metadata": {
        "id": "85814PrRTG46"
      },
      "execution_count": null,
      "outputs": []
    },
    {
      "cell_type": "code",
      "source": [
        "#Converts array to vector\n",
        "vector_1 = tensor_1.flatten()\n",
        "vector_2 = tensor_2.flatten()"
      ],
      "metadata": {
        "id": "IwdSr6WbIWQ3"
      },
      "execution_count": null,
      "outputs": []
    },
    {
      "cell_type": "markdown",
      "source": [
        "## Mathematical Calculations"
      ],
      "metadata": {
        "id": "ZP5VBMljUOK9"
      }
    },
    {
      "cell_type": "code",
      "source": [
        "#Calculating the cosine similarity value of the vector that is formed\n",
        "cos_theta = (vector_1 @ vector_2)/(np.linalg.norm(vector_1) * np.linalg.norm(vector_2))\n",
        "print(cos_theta)"
      ],
      "metadata": {
        "colab": {
          "base_uri": "https://localhost:8080/"
        },
        "id": "hIEM_npIEzWf",
        "outputId": "b44813f2-840a-448f-d247-25cc4172a98a"
      },
      "execution_count": null,
      "outputs": [
        {
          "output_type": "stream",
          "name": "stdout",
          "text": [
            "1.2004732055461627e-10\n"
          ]
        }
      ]
    },
    {
      "cell_type": "markdown",
      "source": [
        "The result of calculating cosine similarity is equal to 1.2004732055461627e-10"
      ],
      "metadata": {
        "id": "S6DbaU2bX3ip"
      }
    },
    {
      "cell_type": "markdown",
      "source": [
        "## Result"
      ],
      "metadata": {
        "id": "9LHqNPEeUU9F"
      }
    },
    {
      "cell_type": "markdown",
      "source": [
        "a. Based on the matrix similarity values ​​in the range -1 to 1. The two images are **NOT SIMILAR** because the results of the cosine similarity calculation are 1.2004732055461627e-10, it can be said that the two vectors have a very large angle.\n",
        "\n",
        "b. When the cosine similarity value is 0, it means that the two vectors are perpendicular or have no similar features, while when the cosine similarity value is 1, it means that the two vectors are identical and have the same features."
      ],
      "metadata": {
        "id": "gIMAAeVkUWUn"
      }
    }
  ]
}