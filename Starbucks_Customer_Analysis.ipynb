{
  "nbformat": 4,
  "nbformat_minor": 0,
  "metadata": {
    "colab": {
      "provenance": [],
      "toc_visible": true
    },
    "kernelspec": {
      "name": "python3",
      "display_name": "Python 3"
    },
    "language_info": {
      "name": "python"
    }
  },
  "cells": [
    {
      "cell_type": "markdown",
      "source": [
        "Tableau Dashboard Link:\n",
        "https://public.tableau.com/views/h8_p0m1_Visualization_Imam_Zarkasie/Visualisasi?:language=en-US&publish=yes&:display_count=n&:origin=viz_share_link\n",
        "\n",
        "Tableau Dashboard Statistical Analysis Link:\n",
        "https://public.tableau.com/views/h8_p0m1_StatisticalAnalysis_Imam_Zarkasie/StatisticalAnalysis?:language=en-US&publish=yes&:display_count=n&:origin=viz_share_link\n",
        "\n",
        "Dataset:\n",
        "\n",
        "Starbucks Customer Survey\n",
        "\n",
        "https://www.kaggle.com/datasets/mahirahmzh/starbucks-customer-retention-malaysia-survey\n",
        "\n"
      ],
      "metadata": {
        "id": "0Mv3EX0yEXCW"
      }
    },
    {
      "cell_type": "markdown",
      "source": [
        "# Introduction\n",
        "Name: Imam Buchori Zarkasie\n"
      ],
      "metadata": {
        "id": "bQ0h7C9bP_1-"
      }
    },
    {
      "cell_type": "markdown",
      "source": [
        "#Problem Statement\n",
        "\n",
        "Analyzing customer demographics and looking at customer loyalty and seeing improvement gaps that can be done by Starbucks."
      ],
      "metadata": {
        "id": "xkH0fkt_xy8i"
      }
    },
    {
      "cell_type": "markdown",
      "source": [
        "## Description Point\n",
        "1. How old are the customers?\n",
        "2. What are the employment status of the customers?\n",
        "3. What are the preferences of Starbucks customers?\n",
        "4. How far does the customer travel?\n",
        "5. Is membercard ownership considered loyal?\n",
        "6. How to determine the right product price for the customer?\n"
      ],
      "metadata": {
        "id": "E9etHMe0xgo9"
      }
    },
    {
      "cell_type": "markdown",
      "source": [
        "#Import Library"
      ],
      "metadata": {
        "id": "5RpW6AD6VjoT"
      }
    },
    {
      "cell_type": "code",
      "execution_count": null,
      "metadata": {
        "id": "a2CLPQmBP5_2"
      },
      "outputs": [],
      "source": [
        "import pandas as pd\n",
        "import numpy as np\n",
        "import matplotlib\n",
        "import matplotlib.pyplot as plt\n",
        "import seaborn as sns\n",
        "from scipy import stats"
      ]
    },
    {
      "cell_type": "markdown",
      "source": [
        "#Data Loading"
      ],
      "metadata": {
        "id": "gPz8IGsvrp8A"
      }
    },
    {
      "cell_type": "code",
      "source": [
        "!pip install kaggle"
      ],
      "metadata": {
        "id": "l5ihpIHsXEpt",
        "colab": {
          "base_uri": "https://localhost:8080/"
        },
        "outputId": "241bb88f-fc09-43d5-a0cc-38b99a07f3ef"
      },
      "execution_count": null,
      "outputs": [
        {
          "output_type": "stream",
          "name": "stdout",
          "text": [
            "Looking in indexes: https://pypi.org/simple, https://us-python.pkg.dev/colab-wheels/public/simple/\n",
            "Requirement already satisfied: kaggle in /usr/local/lib/python3.10/dist-packages (1.5.13)\n",
            "Requirement already satisfied: python-slugify in /usr/local/lib/python3.10/dist-packages (from kaggle) (8.0.1)\n",
            "Requirement already satisfied: urllib3 in /usr/local/lib/python3.10/dist-packages (from kaggle) (1.26.15)\n",
            "Requirement already satisfied: requests in /usr/local/lib/python3.10/dist-packages (from kaggle) (2.27.1)\n",
            "Requirement already satisfied: python-dateutil in /usr/local/lib/python3.10/dist-packages (from kaggle) (2.8.2)\n",
            "Requirement already satisfied: certifi in /usr/local/lib/python3.10/dist-packages (from kaggle) (2022.12.7)\n",
            "Requirement already satisfied: tqdm in /usr/local/lib/python3.10/dist-packages (from kaggle) (4.65.0)\n",
            "Requirement already satisfied: six>=1.10 in /usr/local/lib/python3.10/dist-packages (from kaggle) (1.16.0)\n",
            "Requirement already satisfied: text-unidecode>=1.3 in /usr/local/lib/python3.10/dist-packages (from python-slugify->kaggle) (1.3)\n",
            "Requirement already satisfied: charset-normalizer~=2.0.0 in /usr/local/lib/python3.10/dist-packages (from requests->kaggle) (2.0.12)\n",
            "Requirement already satisfied: idna<4,>=2.5 in /usr/local/lib/python3.10/dist-packages (from requests->kaggle) (3.4)\n"
          ]
        }
      ]
    },
    {
      "cell_type": "code",
      "source": [
        "!mkdir ~/.kaggle\n",
        "!cp '/content/kaggle.json' ~/.kaggle"
      ],
      "metadata": {
        "colab": {
          "base_uri": "https://localhost:8080/"
        },
        "id": "-4VhoiO4WHl_",
        "outputId": "6c5f398b-cf9e-48d7-b6d8-80b22e64b0e6"
      },
      "execution_count": null,
      "outputs": [
        {
          "output_type": "stream",
          "name": "stdout",
          "text": [
            "cp: cannot stat '/content/kaggle.json': No such file or directory\n"
          ]
        }
      ]
    },
    {
      "cell_type": "code",
      "source": [
        "#Datasource: https://www.kaggle.com/datasets/mahirahmzh/starbucks-customer-retention-malaysia-survey\n",
        "!kaggle datasets download -d mahirahmzh/starbucks-customer-retention-malaysia-survey"
      ],
      "metadata": {
        "id": "ii1w5auJVyfm"
      },
      "execution_count": null,
      "outputs": []
    },
    {
      "cell_type": "code",
      "source": [
        "!unzip -q /content/starbucks-customer-retention-malaysia-survey.zip -d datasetML1"
      ],
      "metadata": {
        "id": "pUmfMnVKqUAM",
        "colab": {
          "base_uri": "https://localhost:8080/"
        },
        "outputId": "2e26af9f-ea34-4e18-ee25-0d9d70e21d5e"
      },
      "execution_count": null,
      "outputs": [
        {
          "output_type": "stream",
          "name": "stdout",
          "text": [
            "unzip:  cannot find or open /content/starbucks-customer-retention-malaysia-survey.zip, /content/starbucks-customer-retention-malaysia-survey.zip.zip or /content/starbucks-customer-retention-malaysia-survey.zip.ZIP.\n"
          ]
        }
      ]
    },
    {
      "cell_type": "code",
      "source": [
        "#Import Dataset\n",
        "df = pd.read_csv('/content/drive/MyDrive/datasetML1/Starbucks satisfactory survey encode cleaned.csv')\n",
        "df.head(5)"
      ],
      "metadata": {
        "id": "dSAVhOgoqk9k",
        "colab": {
          "base_uri": "https://localhost:8080/",
          "height": 297
        },
        "outputId": "7baee626-4aba-4722-da11-f8f1fbdd8009"
      },
      "execution_count": null,
      "outputs": [
        {
          "output_type": "execute_result",
          "data": {
            "text/plain": [
              "   Id  gender  age  status  income  visitNo  method  timeSpend  location  \\\n",
              "0   1       1    1       0       0        3       0          1         0   \n",
              "1   2       1    1       0       0        3       2          0         1   \n",
              "2   3       0    1       2       0        2       0          1         2   \n",
              "3   4       1    1       0       0        3       2          0         2   \n",
              "4   5       0    1       0       0        2       2          1         1   \n",
              "\n",
              "   membershipCard  ...  chooseRate  promoMethodApp  promoMethodSoc  \\\n",
              "0               0  ...           3               1               1   \n",
              "1               0  ...           2               1               1   \n",
              "2               0  ...           3               1               1   \n",
              "3               1  ...           3               1               1   \n",
              "4               1  ...           3               1               1   \n",
              "\n",
              "   promoMethodEmail  promoMethodDeal  promoMethodFriend  promoMethodDisplay  \\\n",
              "0                 1                1                  1                   1   \n",
              "1                 1                1                  1                   1   \n",
              "2                 1                1                  1                   1   \n",
              "3                 1                1                  1                   1   \n",
              "4                 1                1                  1                   1   \n",
              "\n",
              "   promoMethodBillboard  promoMethodOthers  loyal  \n",
              "0                     1                  1      0  \n",
              "1                     1                  1      0  \n",
              "2                     1                  1      0  \n",
              "3                     1                  1      1  \n",
              "4                     1                  1      0  \n",
              "\n",
              "[5 rows x 33 columns]"
            ],
            "text/html": [
              "\n",
              "  <div id=\"df-4ce32f1c-1aa7-4da9-b419-5b99865f8d81\">\n",
              "    <div class=\"colab-df-container\">\n",
              "      <div>\n",
              "<style scoped>\n",
              "    .dataframe tbody tr th:only-of-type {\n",
              "        vertical-align: middle;\n",
              "    }\n",
              "\n",
              "    .dataframe tbody tr th {\n",
              "        vertical-align: top;\n",
              "    }\n",
              "\n",
              "    .dataframe thead th {\n",
              "        text-align: right;\n",
              "    }\n",
              "</style>\n",
              "<table border=\"1\" class=\"dataframe\">\n",
              "  <thead>\n",
              "    <tr style=\"text-align: right;\">\n",
              "      <th></th>\n",
              "      <th>Id</th>\n",
              "      <th>gender</th>\n",
              "      <th>age</th>\n",
              "      <th>status</th>\n",
              "      <th>income</th>\n",
              "      <th>visitNo</th>\n",
              "      <th>method</th>\n",
              "      <th>timeSpend</th>\n",
              "      <th>location</th>\n",
              "      <th>membershipCard</th>\n",
              "      <th>...</th>\n",
              "      <th>chooseRate</th>\n",
              "      <th>promoMethodApp</th>\n",
              "      <th>promoMethodSoc</th>\n",
              "      <th>promoMethodEmail</th>\n",
              "      <th>promoMethodDeal</th>\n",
              "      <th>promoMethodFriend</th>\n",
              "      <th>promoMethodDisplay</th>\n",
              "      <th>promoMethodBillboard</th>\n",
              "      <th>promoMethodOthers</th>\n",
              "      <th>loyal</th>\n",
              "    </tr>\n",
              "  </thead>\n",
              "  <tbody>\n",
              "    <tr>\n",
              "      <th>0</th>\n",
              "      <td>1</td>\n",
              "      <td>1</td>\n",
              "      <td>1</td>\n",
              "      <td>0</td>\n",
              "      <td>0</td>\n",
              "      <td>3</td>\n",
              "      <td>0</td>\n",
              "      <td>1</td>\n",
              "      <td>0</td>\n",
              "      <td>0</td>\n",
              "      <td>...</td>\n",
              "      <td>3</td>\n",
              "      <td>1</td>\n",
              "      <td>1</td>\n",
              "      <td>1</td>\n",
              "      <td>1</td>\n",
              "      <td>1</td>\n",
              "      <td>1</td>\n",
              "      <td>1</td>\n",
              "      <td>1</td>\n",
              "      <td>0</td>\n",
              "    </tr>\n",
              "    <tr>\n",
              "      <th>1</th>\n",
              "      <td>2</td>\n",
              "      <td>1</td>\n",
              "      <td>1</td>\n",
              "      <td>0</td>\n",
              "      <td>0</td>\n",
              "      <td>3</td>\n",
              "      <td>2</td>\n",
              "      <td>0</td>\n",
              "      <td>1</td>\n",
              "      <td>0</td>\n",
              "      <td>...</td>\n",
              "      <td>2</td>\n",
              "      <td>1</td>\n",
              "      <td>1</td>\n",
              "      <td>1</td>\n",
              "      <td>1</td>\n",
              "      <td>1</td>\n",
              "      <td>1</td>\n",
              "      <td>1</td>\n",
              "      <td>1</td>\n",
              "      <td>0</td>\n",
              "    </tr>\n",
              "    <tr>\n",
              "      <th>2</th>\n",
              "      <td>3</td>\n",
              "      <td>0</td>\n",
              "      <td>1</td>\n",
              "      <td>2</td>\n",
              "      <td>0</td>\n",
              "      <td>2</td>\n",
              "      <td>0</td>\n",
              "      <td>1</td>\n",
              "      <td>2</td>\n",
              "      <td>0</td>\n",
              "      <td>...</td>\n",
              "      <td>3</td>\n",
              "      <td>1</td>\n",
              "      <td>1</td>\n",
              "      <td>1</td>\n",
              "      <td>1</td>\n",
              "      <td>1</td>\n",
              "      <td>1</td>\n",
              "      <td>1</td>\n",
              "      <td>1</td>\n",
              "      <td>0</td>\n",
              "    </tr>\n",
              "    <tr>\n",
              "      <th>3</th>\n",
              "      <td>4</td>\n",
              "      <td>1</td>\n",
              "      <td>1</td>\n",
              "      <td>0</td>\n",
              "      <td>0</td>\n",
              "      <td>3</td>\n",
              "      <td>2</td>\n",
              "      <td>0</td>\n",
              "      <td>2</td>\n",
              "      <td>1</td>\n",
              "      <td>...</td>\n",
              "      <td>3</td>\n",
              "      <td>1</td>\n",
              "      <td>1</td>\n",
              "      <td>1</td>\n",
              "      <td>1</td>\n",
              "      <td>1</td>\n",
              "      <td>1</td>\n",
              "      <td>1</td>\n",
              "      <td>1</td>\n",
              "      <td>1</td>\n",
              "    </tr>\n",
              "    <tr>\n",
              "      <th>4</th>\n",
              "      <td>5</td>\n",
              "      <td>0</td>\n",
              "      <td>1</td>\n",
              "      <td>0</td>\n",
              "      <td>0</td>\n",
              "      <td>2</td>\n",
              "      <td>2</td>\n",
              "      <td>1</td>\n",
              "      <td>1</td>\n",
              "      <td>1</td>\n",
              "      <td>...</td>\n",
              "      <td>3</td>\n",
              "      <td>1</td>\n",
              "      <td>1</td>\n",
              "      <td>1</td>\n",
              "      <td>1</td>\n",
              "      <td>1</td>\n",
              "      <td>1</td>\n",
              "      <td>1</td>\n",
              "      <td>1</td>\n",
              "      <td>0</td>\n",
              "    </tr>\n",
              "  </tbody>\n",
              "</table>\n",
              "<p>5 rows × 33 columns</p>\n",
              "</div>\n",
              "      <button class=\"colab-df-convert\" onclick=\"convertToInteractive('df-4ce32f1c-1aa7-4da9-b419-5b99865f8d81')\"\n",
              "              title=\"Convert this dataframe to an interactive table.\"\n",
              "              style=\"display:none;\">\n",
              "        \n",
              "  <svg xmlns=\"http://www.w3.org/2000/svg\" height=\"24px\"viewBox=\"0 0 24 24\"\n",
              "       width=\"24px\">\n",
              "    <path d=\"M0 0h24v24H0V0z\" fill=\"none\"/>\n",
              "    <path d=\"M18.56 5.44l.94 2.06.94-2.06 2.06-.94-2.06-.94-.94-2.06-.94 2.06-2.06.94zm-11 1L8.5 8.5l.94-2.06 2.06-.94-2.06-.94L8.5 2.5l-.94 2.06-2.06.94zm10 10l.94 2.06.94-2.06 2.06-.94-2.06-.94-.94-2.06-.94 2.06-2.06.94z\"/><path d=\"M17.41 7.96l-1.37-1.37c-.4-.4-.92-.59-1.43-.59-.52 0-1.04.2-1.43.59L10.3 9.45l-7.72 7.72c-.78.78-.78 2.05 0 2.83L4 21.41c.39.39.9.59 1.41.59.51 0 1.02-.2 1.41-.59l7.78-7.78 2.81-2.81c.8-.78.8-2.07 0-2.86zM5.41 20L4 18.59l7.72-7.72 1.47 1.35L5.41 20z\"/>\n",
              "  </svg>\n",
              "      </button>\n",
              "      \n",
              "  <style>\n",
              "    .colab-df-container {\n",
              "      display:flex;\n",
              "      flex-wrap:wrap;\n",
              "      gap: 12px;\n",
              "    }\n",
              "\n",
              "    .colab-df-convert {\n",
              "      background-color: #E8F0FE;\n",
              "      border: none;\n",
              "      border-radius: 50%;\n",
              "      cursor: pointer;\n",
              "      display: none;\n",
              "      fill: #1967D2;\n",
              "      height: 32px;\n",
              "      padding: 0 0 0 0;\n",
              "      width: 32px;\n",
              "    }\n",
              "\n",
              "    .colab-df-convert:hover {\n",
              "      background-color: #E2EBFA;\n",
              "      box-shadow: 0px 1px 2px rgba(60, 64, 67, 0.3), 0px 1px 3px 1px rgba(60, 64, 67, 0.15);\n",
              "      fill: #174EA6;\n",
              "    }\n",
              "\n",
              "    [theme=dark] .colab-df-convert {\n",
              "      background-color: #3B4455;\n",
              "      fill: #D2E3FC;\n",
              "    }\n",
              "\n",
              "    [theme=dark] .colab-df-convert:hover {\n",
              "      background-color: #434B5C;\n",
              "      box-shadow: 0px 1px 3px 1px rgba(0, 0, 0, 0.15);\n",
              "      filter: drop-shadow(0px 1px 2px rgba(0, 0, 0, 0.3));\n",
              "      fill: #FFFFFF;\n",
              "    }\n",
              "  </style>\n",
              "\n",
              "      <script>\n",
              "        const buttonEl =\n",
              "          document.querySelector('#df-4ce32f1c-1aa7-4da9-b419-5b99865f8d81 button.colab-df-convert');\n",
              "        buttonEl.style.display =\n",
              "          google.colab.kernel.accessAllowed ? 'block' : 'none';\n",
              "\n",
              "        async function convertToInteractive(key) {\n",
              "          const element = document.querySelector('#df-4ce32f1c-1aa7-4da9-b419-5b99865f8d81');\n",
              "          const dataTable =\n",
              "            await google.colab.kernel.invokeFunction('convertToInteractive',\n",
              "                                                     [key], {});\n",
              "          if (!dataTable) return;\n",
              "\n",
              "          const docLinkHtml = 'Like what you see? Visit the ' +\n",
              "            '<a target=\"_blank\" href=https://colab.research.google.com/notebooks/data_table.ipynb>data table notebook</a>'\n",
              "            + ' to learn more about interactive tables.';\n",
              "          element.innerHTML = '';\n",
              "          dataTable['output_type'] = 'display_data';\n",
              "          await google.colab.output.renderOutput(dataTable, element);\n",
              "          const docLink = document.createElement('div');\n",
              "          docLink.innerHTML = docLinkHtml;\n",
              "          element.appendChild(docLink);\n",
              "        }\n",
              "      </script>\n",
              "    </div>\n",
              "  </div>\n",
              "  "
            ]
          },
          "metadata": {},
          "execution_count": 6
        }
      ]
    },
    {
      "cell_type": "code",
      "source": [
        "#View the amount of data and data types\n",
        "df.info()"
      ],
      "metadata": {
        "id": "LpLl_bUgq5ta",
        "colab": {
          "base_uri": "https://localhost:8080/"
        },
        "outputId": "00a94fbf-d55e-41e6-9eb4-b55159593e22"
      },
      "execution_count": null,
      "outputs": [
        {
          "output_type": "stream",
          "name": "stdout",
          "text": [
            "<class 'pandas.core.frame.DataFrame'>\n",
            "RangeIndex: 113 entries, 0 to 112\n",
            "Data columns (total 33 columns):\n",
            " #   Column                  Non-Null Count  Dtype\n",
            "---  ------                  --------------  -----\n",
            " 0   Id                      113 non-null    int64\n",
            " 1   gender                  113 non-null    int64\n",
            " 2   age                     113 non-null    int64\n",
            " 3   status                  113 non-null    int64\n",
            " 4   income                  113 non-null    int64\n",
            " 5   visitNo                 113 non-null    int64\n",
            " 6   method                  113 non-null    int64\n",
            " 7   timeSpend               113 non-null    int64\n",
            " 8   location                113 non-null    int64\n",
            " 9   membershipCard          113 non-null    int64\n",
            " 10  itemPurchaseCoffee      113 non-null    int64\n",
            " 11  itempurchaseCold        113 non-null    int64\n",
            " 12  itemPurchasePastries    113 non-null    int64\n",
            " 13  itemPurchaseJuices      113 non-null    int64\n",
            " 14  itemPurchaseSandwiches  113 non-null    int64\n",
            " 15  itemPurchaseOthers      113 non-null    int64\n",
            " 16  spendPurchase           113 non-null    int64\n",
            " 17  productRate             113 non-null    int64\n",
            " 18  priceRate               113 non-null    int64\n",
            " 19  promoRate               113 non-null    int64\n",
            " 20  ambianceRate            113 non-null    int64\n",
            " 21  wifiRate                113 non-null    int64\n",
            " 22  serviceRate             113 non-null    int64\n",
            " 23  chooseRate              113 non-null    int64\n",
            " 24  promoMethodApp          113 non-null    int64\n",
            " 25  promoMethodSoc          113 non-null    int64\n",
            " 26  promoMethodEmail        113 non-null    int64\n",
            " 27  promoMethodDeal         113 non-null    int64\n",
            " 28  promoMethodFriend       113 non-null    int64\n",
            " 29  promoMethodDisplay      113 non-null    int64\n",
            " 30  promoMethodBillboard    113 non-null    int64\n",
            " 31  promoMethodOthers       113 non-null    int64\n",
            " 32  loyal                   113 non-null    int64\n",
            "dtypes: int64(33)\n",
            "memory usage: 29.3 KB\n"
          ]
        }
      ]
    },
    {
      "cell_type": "markdown",
      "source": [
        "#Data Cleaning"
      ],
      "metadata": {
        "id": "s9px9xAXvk5Z"
      }
    },
    {
      "cell_type": "code",
      "source": [
        "#Create a new dataframe based on some of the required variables\n",
        "data = df[[\"Id\", \"gender\", \"age\", \"status\", \"method\", \"location\", \"membershipCard\", \"spendPurchase\", \"loyal\"]]\n",
        "data"
      ],
      "metadata": {
        "id": "G6S4ropZ08uF",
        "colab": {
          "base_uri": "https://localhost:8080/",
          "height": 419
        },
        "outputId": "3bd428f0-afa0-42fb-d30c-72a7b4d49983"
      },
      "execution_count": null,
      "outputs": [
        {
          "output_type": "execute_result",
          "data": {
            "text/plain": [
              "      Id  gender  age  status  method  location  membershipCard  \\\n",
              "0      1       1    1       0       0         0               0   \n",
              "1      2       1    1       0       2         1               0   \n",
              "2      3       0    1       2       0         2               0   \n",
              "3      4       1    1       0       2         2               1   \n",
              "4      5       0    1       0       2         1               1   \n",
              "..   ...     ...  ...     ...     ...       ...             ...   \n",
              "108  118       0    3       1       0         1               0   \n",
              "109  119       0    1       2       0         1               0   \n",
              "110  120       0    1       0       0         1               1   \n",
              "111  121       1    1       2       2         0               1   \n",
              "112  122       0    1       2       0         1               1   \n",
              "\n",
              "     spendPurchase  loyal  \n",
              "0                1      0  \n",
              "1                1      0  \n",
              "2                1      0  \n",
              "3                1      1  \n",
              "4                2      0  \n",
              "..             ...    ...  \n",
              "108              2      0  \n",
              "109              3      0  \n",
              "110              1      1  \n",
              "111              1      0  \n",
              "112              1      1  \n",
              "\n",
              "[113 rows x 9 columns]"
            ],
            "text/html": [
              "\n",
              "  <div id=\"df-cf5245d8-8b91-47f1-9775-1baa289cee3f\">\n",
              "    <div class=\"colab-df-container\">\n",
              "      <div>\n",
              "<style scoped>\n",
              "    .dataframe tbody tr th:only-of-type {\n",
              "        vertical-align: middle;\n",
              "    }\n",
              "\n",
              "    .dataframe tbody tr th {\n",
              "        vertical-align: top;\n",
              "    }\n",
              "\n",
              "    .dataframe thead th {\n",
              "        text-align: right;\n",
              "    }\n",
              "</style>\n",
              "<table border=\"1\" class=\"dataframe\">\n",
              "  <thead>\n",
              "    <tr style=\"text-align: right;\">\n",
              "      <th></th>\n",
              "      <th>Id</th>\n",
              "      <th>gender</th>\n",
              "      <th>age</th>\n",
              "      <th>status</th>\n",
              "      <th>method</th>\n",
              "      <th>location</th>\n",
              "      <th>membershipCard</th>\n",
              "      <th>spendPurchase</th>\n",
              "      <th>loyal</th>\n",
              "    </tr>\n",
              "  </thead>\n",
              "  <tbody>\n",
              "    <tr>\n",
              "      <th>0</th>\n",
              "      <td>1</td>\n",
              "      <td>1</td>\n",
              "      <td>1</td>\n",
              "      <td>0</td>\n",
              "      <td>0</td>\n",
              "      <td>0</td>\n",
              "      <td>0</td>\n",
              "      <td>1</td>\n",
              "      <td>0</td>\n",
              "    </tr>\n",
              "    <tr>\n",
              "      <th>1</th>\n",
              "      <td>2</td>\n",
              "      <td>1</td>\n",
              "      <td>1</td>\n",
              "      <td>0</td>\n",
              "      <td>2</td>\n",
              "      <td>1</td>\n",
              "      <td>0</td>\n",
              "      <td>1</td>\n",
              "      <td>0</td>\n",
              "    </tr>\n",
              "    <tr>\n",
              "      <th>2</th>\n",
              "      <td>3</td>\n",
              "      <td>0</td>\n",
              "      <td>1</td>\n",
              "      <td>2</td>\n",
              "      <td>0</td>\n",
              "      <td>2</td>\n",
              "      <td>0</td>\n",
              "      <td>1</td>\n",
              "      <td>0</td>\n",
              "    </tr>\n",
              "    <tr>\n",
              "      <th>3</th>\n",
              "      <td>4</td>\n",
              "      <td>1</td>\n",
              "      <td>1</td>\n",
              "      <td>0</td>\n",
              "      <td>2</td>\n",
              "      <td>2</td>\n",
              "      <td>1</td>\n",
              "      <td>1</td>\n",
              "      <td>1</td>\n",
              "    </tr>\n",
              "    <tr>\n",
              "      <th>4</th>\n",
              "      <td>5</td>\n",
              "      <td>0</td>\n",
              "      <td>1</td>\n",
              "      <td>0</td>\n",
              "      <td>2</td>\n",
              "      <td>1</td>\n",
              "      <td>1</td>\n",
              "      <td>2</td>\n",
              "      <td>0</td>\n",
              "    </tr>\n",
              "    <tr>\n",
              "      <th>...</th>\n",
              "      <td>...</td>\n",
              "      <td>...</td>\n",
              "      <td>...</td>\n",
              "      <td>...</td>\n",
              "      <td>...</td>\n",
              "      <td>...</td>\n",
              "      <td>...</td>\n",
              "      <td>...</td>\n",
              "      <td>...</td>\n",
              "    </tr>\n",
              "    <tr>\n",
              "      <th>108</th>\n",
              "      <td>118</td>\n",
              "      <td>0</td>\n",
              "      <td>3</td>\n",
              "      <td>1</td>\n",
              "      <td>0</td>\n",
              "      <td>1</td>\n",
              "      <td>0</td>\n",
              "      <td>2</td>\n",
              "      <td>0</td>\n",
              "    </tr>\n",
              "    <tr>\n",
              "      <th>109</th>\n",
              "      <td>119</td>\n",
              "      <td>0</td>\n",
              "      <td>1</td>\n",
              "      <td>2</td>\n",
              "      <td>0</td>\n",
              "      <td>1</td>\n",
              "      <td>0</td>\n",
              "      <td>3</td>\n",
              "      <td>0</td>\n",
              "    </tr>\n",
              "    <tr>\n",
              "      <th>110</th>\n",
              "      <td>120</td>\n",
              "      <td>0</td>\n",
              "      <td>1</td>\n",
              "      <td>0</td>\n",
              "      <td>0</td>\n",
              "      <td>1</td>\n",
              "      <td>1</td>\n",
              "      <td>1</td>\n",
              "      <td>1</td>\n",
              "    </tr>\n",
              "    <tr>\n",
              "      <th>111</th>\n",
              "      <td>121</td>\n",
              "      <td>1</td>\n",
              "      <td>1</td>\n",
              "      <td>2</td>\n",
              "      <td>2</td>\n",
              "      <td>0</td>\n",
              "      <td>1</td>\n",
              "      <td>1</td>\n",
              "      <td>0</td>\n",
              "    </tr>\n",
              "    <tr>\n",
              "      <th>112</th>\n",
              "      <td>122</td>\n",
              "      <td>0</td>\n",
              "      <td>1</td>\n",
              "      <td>2</td>\n",
              "      <td>0</td>\n",
              "      <td>1</td>\n",
              "      <td>1</td>\n",
              "      <td>1</td>\n",
              "      <td>1</td>\n",
              "    </tr>\n",
              "  </tbody>\n",
              "</table>\n",
              "<p>113 rows × 9 columns</p>\n",
              "</div>\n",
              "      <button class=\"colab-df-convert\" onclick=\"convertToInteractive('df-cf5245d8-8b91-47f1-9775-1baa289cee3f')\"\n",
              "              title=\"Convert this dataframe to an interactive table.\"\n",
              "              style=\"display:none;\">\n",
              "        \n",
              "  <svg xmlns=\"http://www.w3.org/2000/svg\" height=\"24px\"viewBox=\"0 0 24 24\"\n",
              "       width=\"24px\">\n",
              "    <path d=\"M0 0h24v24H0V0z\" fill=\"none\"/>\n",
              "    <path d=\"M18.56 5.44l.94 2.06.94-2.06 2.06-.94-2.06-.94-.94-2.06-.94 2.06-2.06.94zm-11 1L8.5 8.5l.94-2.06 2.06-.94-2.06-.94L8.5 2.5l-.94 2.06-2.06.94zm10 10l.94 2.06.94-2.06 2.06-.94-2.06-.94-.94-2.06-.94 2.06-2.06.94z\"/><path d=\"M17.41 7.96l-1.37-1.37c-.4-.4-.92-.59-1.43-.59-.52 0-1.04.2-1.43.59L10.3 9.45l-7.72 7.72c-.78.78-.78 2.05 0 2.83L4 21.41c.39.39.9.59 1.41.59.51 0 1.02-.2 1.41-.59l7.78-7.78 2.81-2.81c.8-.78.8-2.07 0-2.86zM5.41 20L4 18.59l7.72-7.72 1.47 1.35L5.41 20z\"/>\n",
              "  </svg>\n",
              "      </button>\n",
              "      \n",
              "  <style>\n",
              "    .colab-df-container {\n",
              "      display:flex;\n",
              "      flex-wrap:wrap;\n",
              "      gap: 12px;\n",
              "    }\n",
              "\n",
              "    .colab-df-convert {\n",
              "      background-color: #E8F0FE;\n",
              "      border: none;\n",
              "      border-radius: 50%;\n",
              "      cursor: pointer;\n",
              "      display: none;\n",
              "      fill: #1967D2;\n",
              "      height: 32px;\n",
              "      padding: 0 0 0 0;\n",
              "      width: 32px;\n",
              "    }\n",
              "\n",
              "    .colab-df-convert:hover {\n",
              "      background-color: #E2EBFA;\n",
              "      box-shadow: 0px 1px 2px rgba(60, 64, 67, 0.3), 0px 1px 3px 1px rgba(60, 64, 67, 0.15);\n",
              "      fill: #174EA6;\n",
              "    }\n",
              "\n",
              "    [theme=dark] .colab-df-convert {\n",
              "      background-color: #3B4455;\n",
              "      fill: #D2E3FC;\n",
              "    }\n",
              "\n",
              "    [theme=dark] .colab-df-convert:hover {\n",
              "      background-color: #434B5C;\n",
              "      box-shadow: 0px 1px 3px 1px rgba(0, 0, 0, 0.15);\n",
              "      filter: drop-shadow(0px 1px 2px rgba(0, 0, 0, 0.3));\n",
              "      fill: #FFFFFF;\n",
              "    }\n",
              "  </style>\n",
              "\n",
              "      <script>\n",
              "        const buttonEl =\n",
              "          document.querySelector('#df-cf5245d8-8b91-47f1-9775-1baa289cee3f button.colab-df-convert');\n",
              "        buttonEl.style.display =\n",
              "          google.colab.kernel.accessAllowed ? 'block' : 'none';\n",
              "\n",
              "        async function convertToInteractive(key) {\n",
              "          const element = document.querySelector('#df-cf5245d8-8b91-47f1-9775-1baa289cee3f');\n",
              "          const dataTable =\n",
              "            await google.colab.kernel.invokeFunction('convertToInteractive',\n",
              "                                                     [key], {});\n",
              "          if (!dataTable) return;\n",
              "\n",
              "          const docLinkHtml = 'Like what you see? Visit the ' +\n",
              "            '<a target=\"_blank\" href=https://colab.research.google.com/notebooks/data_table.ipynb>data table notebook</a>'\n",
              "            + ' to learn more about interactive tables.';\n",
              "          element.innerHTML = '';\n",
              "          dataTable['output_type'] = 'display_data';\n",
              "          await google.colab.output.renderOutput(dataTable, element);\n",
              "          const docLink = document.createElement('div');\n",
              "          docLink.innerHTML = docLinkHtml;\n",
              "          element.appendChild(docLink);\n",
              "        }\n",
              "      </script>\n",
              "    </div>\n",
              "  </div>\n",
              "  "
            ]
          },
          "metadata": {},
          "execution_count": 8
        }
      ]
    },
    {
      "cell_type": "markdown",
      "source": [
        "The data used has 9 columns and 113 rows. Dataset is data that has been encoded so that it has a value in the form of a number with a categorical type. The following is an interpretation of the values ​​from the dataset:\n",
        "\n",
        "*   gender: 0-Female ; 1-Male\n",
        "*   age: 0-Below 20 ; 1-20 to 29; 2-30 to 39 ; 3-Above 40\n",
        "*   status: 0-Student ; 1-Self_Employed ; 2-Employed ; 3-Housewife\n",
        "*   method: 0-Dine In ; 1-Drive Thru ; 2-Take Away ; 3-Never ; 4-Others\n",
        "*   Location: 0-Within 1km ; 1-1km to 3km ; 2-More than 3km\n",
        "*   membershipCard: 0-Yes ; 1-No\n",
        "*   spendPurchase: 0-Zero ; 1-Less than RM20 ; 2-RM20 to RM40 ; 3-More than RM40\n",
        "*   loyal: 0-Yes ; 1-No\n",
        "\n",
        "\n",
        "\n",
        "\n",
        "\n",
        "\n",
        "\n"
      ],
      "metadata": {
        "id": "jILDyOnT2HQV"
      }
    },
    {
      "cell_type": "code",
      "source": [
        "#View the amount of data and data types\n",
        "data.info()"
      ],
      "metadata": {
        "id": "MRT1QpMe18g5",
        "colab": {
          "base_uri": "https://localhost:8080/"
        },
        "outputId": "9718a1eb-2b96-4ab2-b68c-3a4658ba9d5e"
      },
      "execution_count": null,
      "outputs": [
        {
          "output_type": "stream",
          "name": "stdout",
          "text": [
            "<class 'pandas.core.frame.DataFrame'>\n",
            "RangeIndex: 113 entries, 0 to 112\n",
            "Data columns (total 9 columns):\n",
            " #   Column          Non-Null Count  Dtype\n",
            "---  ------          --------------  -----\n",
            " 0   Id              113 non-null    int64\n",
            " 1   gender          113 non-null    int64\n",
            " 2   age             113 non-null    int64\n",
            " 3   status          113 non-null    int64\n",
            " 4   method          113 non-null    int64\n",
            " 5   location        113 non-null    int64\n",
            " 6   membershipCard  113 non-null    int64\n",
            " 7   spendPurchase   113 non-null    int64\n",
            " 8   loyal           113 non-null    int64\n",
            "dtypes: int64(9)\n",
            "memory usage: 8.1 KB\n"
          ]
        }
      ]
    },
    {
      "cell_type": "markdown",
      "source": [
        "The data type is integer and there is no missing value"
      ],
      "metadata": {
        "id": "oTGCDvBj1_sf"
      }
    },
    {
      "cell_type": "markdown",
      "source": [
        "#Analysis"
      ],
      "metadata": {
        "id": "xDGSkmHovoRQ"
      }
    },
    {
      "cell_type": "markdown",
      "source": [
        "## How old are the customers?"
      ],
      "metadata": {
        "id": "wAhiGZZ5GkNN"
      }
    },
    {
      "cell_type": "code",
      "source": [
        "#Create a data series for the age variable\n",
        "age = data['age'] = data['age'].replace({0: '<20', 1: '20-29', 2: '30-39', 3: '>40'})"
      ],
      "metadata": {
        "id": "WUD4UpeSL6T2",
        "colab": {
          "base_uri": "https://localhost:8080/"
        },
        "outputId": "4a05212c-f87b-4d53-a072-df6be2ec4540"
      },
      "execution_count": null,
      "outputs": [
        {
          "output_type": "stream",
          "name": "stderr",
          "text": [
            "<ipython-input-10-6f1adc8ea543>:2: SettingWithCopyWarning: \n",
            "A value is trying to be set on a copy of a slice from a DataFrame.\n",
            "Try using .loc[row_indexer,col_indexer] = value instead\n",
            "\n",
            "See the caveats in the documentation: https://pandas.pydata.org/pandas-docs/stable/user_guide/indexing.html#returning-a-view-versus-a-copy\n",
            "  age = data['age'] = data['age'].replace({0: '<20', 1: '20-29', 2: '30-39', 3: '>40'})\n"
          ]
        }
      ]
    },
    {
      "cell_type": "code",
      "source": [
        "#Create Age Distribution plots\n",
        "age.value_counts().plot(kind='bar')\n",
        "\n",
        "plt.title('Age Distribution')\n",
        "plt.xlabel('Age')\n",
        "plt.ylabel('Number of Age')\n",
        "\n",
        "plt.show()"
      ],
      "metadata": {
        "colab": {
          "base_uri": "https://localhost:8080/",
          "height": 498
        },
        "id": "wyeooVzhMSu8",
        "outputId": "76ef011f-725e-4a1b-b03c-c879e9435c1d"
      },
      "execution_count": null,
      "outputs": [
        {
          "output_type": "display_data",
          "data": {
            "text/plain": [
              "<Figure size 640x480 with 1 Axes>"
            ],
            "image/png": "[encoded data removed]"
          },
          "metadata": {}
        }
      ]
    },
    {
      "cell_type": "markdown",
      "source": [
        "The age range of most Starbuck customers is in the 20-29 year range, at that age there is a lot of trending information that can be used as marketing campaigns such as events, music, etc. in order to increase Starbucks engagement."
      ],
      "metadata": {
        "id": "BAQexCfsk8Y2"
      }
    },
    {
      "cell_type": "markdown",
      "source": [
        "## What are the employment status of the customers?"
      ],
      "metadata": {
        "id": "vhp_xWavPaGH"
      }
    },
    {
      "cell_type": "code",
      "source": [
        "#Create a data series for the status variable\n",
        "status = data['status'] = data['status'].replace({0: 'Student', 1: 'Self-Employed', 2: 'Employed', 3: 'Housewife'})"
      ],
      "metadata": {
        "id": "jULJik46PbkL",
        "colab": {
          "base_uri": "https://localhost:8080/"
        },
        "outputId": "1da35c43-dd1e-4cc8-9e5e-3d0facddce15"
      },
      "execution_count": null,
      "outputs": [
        {
          "output_type": "stream",
          "name": "stderr",
          "text": [
            "<ipython-input-12-fb5cdc9bd4cb>:2: SettingWithCopyWarning: \n",
            "A value is trying to be set on a copy of a slice from a DataFrame.\n",
            "Try using .loc[row_indexer,col_indexer] = value instead\n",
            "\n",
            "See the caveats in the documentation: https://pandas.pydata.org/pandas-docs/stable/user_guide/indexing.html#returning-a-view-versus-a-copy\n",
            "  status = data['status'] = data['status'].replace({0: 'Student', 1: 'Self-Employed', 2: 'Employed', 3: 'Housewife'})\n"
          ]
        }
      ]
    },
    {
      "cell_type": "code",
      "source": [
        "#Create Status plots\n",
        "status.value_counts().plot(kind='bar')\n",
        "\n",
        "plt.title('Customer Status')\n",
        "plt.xlabel('Status')\n",
        "plt.ylabel('Frequency')\n",
        "\n",
        "plt.show()"
      ],
      "metadata": {
        "colab": {
          "base_uri": "https://localhost:8080/",
          "height": 557
        },
        "id": "XJhOKlBKP1A-",
        "outputId": "5c646769-fde4-4248-c2cf-10e66a14f6cd"
      },
      "execution_count": null,
      "outputs": [
        {
          "output_type": "display_data",
          "data": {
            "text/plain": [
              "<Figure size 640x480 with 1 Axes>"
            ],
            "image/png": "[encoded data removed]"
          },
          "metadata": {}
        }
      ]
    },
    {
      "cell_type": "markdown",
      "source": [
        "The job status of the majority of Starbucks cutomers is \"Employed\" and \"Student\", in statuses with high levels of productivity it is necessary to pay attention to the facilities and convenience of Starbucks outlets in order to be able to support customer activities."
      ],
      "metadata": {
        "id": "MQgkk5BSlYwC"
      }
    },
    {
      "cell_type": "markdown",
      "source": [
        "## What is the customer's place preference at Starbucks?"
      ],
      "metadata": {
        "id": "1APahQsmNuCz"
      }
    },
    {
      "cell_type": "code",
      "source": [
        "#Create data series for method variables\n",
        "method = data['method'] = data['method'].replace({0: 'Dine in', 1: 'Drive_Thru', 2: 'Take Away', 3: 'Never', 4: 'Others', 5: 'Others'})"
      ],
      "metadata": {
        "id": "pVl1xJx5N73m",
        "colab": {
          "base_uri": "https://localhost:8080/"
        },
        "outputId": "d4603ae4-3ed2-4a7d-8751-671b7fb2cdf9"
      },
      "execution_count": null,
      "outputs": [
        {
          "output_type": "stream",
          "name": "stderr",
          "text": [
            "<ipython-input-14-73be29a4abb4>:2: SettingWithCopyWarning: \n",
            "A value is trying to be set on a copy of a slice from a DataFrame.\n",
            "Try using .loc[row_indexer,col_indexer] = value instead\n",
            "\n",
            "See the caveats in the documentation: https://pandas.pydata.org/pandas-docs/stable/user_guide/indexing.html#returning-a-view-versus-a-copy\n",
            "  method = data['method'] = data['method'].replace({0: 'Dine in', 1: 'Drive_Thru', 2: 'Take Away', 3: 'Never', 4: 'Others', 5: 'Others'})\n"
          ]
        }
      ]
    },
    {
      "cell_type": "code",
      "source": [
        "#Plot Methods\n",
        "method.value_counts().plot(kind='pie',\n",
        "                            figsize=(5, 6),\n",
        "                            autopct='%1.1f%%', # add in percentages\n",
        "                            startangle=90,     # start angle 90°\n",
        "                            shadow=True,       # add shadow      \n",
        "                            )\n",
        "\n",
        "plt.title('Customer Method')\n",
        "plt.axis('equal') # Sets the pie chart to look like a circle.\n",
        "\n",
        "plt.show()"
      ],
      "metadata": {
        "colab": {
          "base_uri": "https://localhost:8080/",
          "height": 521
        },
        "id": "ij3kwDC3NwYH",
        "outputId": "af890562-6dab-446e-91fe-76192d97af40"
      },
      "execution_count": null,
      "outputs": [
        {
          "output_type": "display_data",
          "data": {
            "text/plain": [
              "<Figure size 500x600 with 1 Axes>"
            ],
            "image/png": "[encoded data removed]"
          },
          "metadata": {}
        }
      ]
    },
    {
      "cell_type": "markdown",
      "source": [
        "Starbucks customers mostly order Take Away compared to Dine In and Drive-Thru, so that the ordering process is simpler, an advance ordering system can be implemented and all that's left is to pick-up the order."
      ],
      "metadata": {
        "id": "-7oGeO9XmGQi"
      }
    },
    {
      "cell_type": "markdown",
      "source": [
        "## How far did the customer travel?"
      ],
      "metadata": {
        "id": "jr3UhA86PSjP"
      }
    },
    {
      "cell_type": "code",
      "source": [
        "#Create a data series for the location variable\n",
        "location = data['location'] = data['location'].replace({0: '<1km', 1: '1-3km', 2: '>3km'})"
      ],
      "metadata": {
        "id": "WfI8b8CtQR8h",
        "colab": {
          "base_uri": "https://localhost:8080/"
        },
        "outputId": "b7658273-4251-4b5e-9f12-66809627bad3"
      },
      "execution_count": null,
      "outputs": [
        {
          "output_type": "stream",
          "name": "stderr",
          "text": [
            "<ipython-input-16-fb81561b219d>:2: SettingWithCopyWarning: \n",
            "A value is trying to be set on a copy of a slice from a DataFrame.\n",
            "Try using .loc[row_indexer,col_indexer] = value instead\n",
            "\n",
            "See the caveats in the documentation: https://pandas.pydata.org/pandas-docs/stable/user_guide/indexing.html#returning-a-view-versus-a-copy\n",
            "  location = data['location'] = data['location'].replace({0: '<1km', 1: '1-3km', 2: '>3km'})\n"
          ]
        }
      ]
    },
    {
      "cell_type": "code",
      "source": [
        "#Make location plots\n",
        "location.value_counts().plot(kind='barh')\n",
        "\n",
        "plt.title('Location')\n",
        "plt.xlabel('Frequency')\n",
        "plt.ylabel('Location')\n",
        "\n",
        "plt.show()"
      ],
      "metadata": {
        "colab": {
          "base_uri": "https://localhost:8080/",
          "height": 472
        },
        "id": "8eiV09nCQfKi",
        "outputId": "ce27b788-a11f-46b8-df87-a241bc8955c6"
      },
      "execution_count": null,
      "outputs": [
        {
          "output_type": "display_data",
          "data": {
            "text/plain": [
              "<Figure size 640x480 with 1 Axes>"
            ],
            "image/png": "[encoded data removed]"
          },
          "metadata": {}
        }
      ]
    },
    {
      "cell_type": "markdown",
      "source": [
        "The majority of Starbucks customers come with distances > 3km, therefore in order to make it easier for customers who travel long distances it is necessary to accommodate them with delivery/delivery services and work together with delivery service platforms so that customers are not burdened with delivery costs."
      ],
      "metadata": {
        "id": "gsoNuM3OXZQC"
      }
    },
    {
      "cell_type": "markdown",
      "source": [
        "## Is Member Card ownership considered loyal? (Inferential Statistics)\n",
        "\n",
        "Using the Paired Test method"
      ],
      "metadata": {
        "id": "PaqV9s6cB7ZH"
      }
    },
    {
      "cell_type": "code",
      "source": [
        "#Look at the distribution of data on the membershipCard variable\n",
        "data[\"membershipCard\"].value_counts()"
      ],
      "metadata": {
        "colab": {
          "base_uri": "https://localhost:8080/"
        },
        "id": "dYpTSjDp6wCR",
        "outputId": "73a17112-ef0a-4cf6-b94d-5071643355f5"
      },
      "execution_count": null,
      "outputs": [
        {
          "output_type": "execute_result",
          "data": {
            "text/plain": [
              "0    60\n",
              "1    53\n",
              "Name: membershipCard, dtype: int64"
            ]
          },
          "metadata": {},
          "execution_count": 18
        }
      ]
    },
    {
      "cell_type": "code",
      "source": [
        "#Look at the distribution of data on loyal variables\n",
        "data[\"loyal\"].value_counts()"
      ],
      "metadata": {
        "colab": {
          "base_uri": "https://localhost:8080/"
        },
        "id": "G_6hesK797qm",
        "outputId": "d71933ae-49b8-4f73-e55f-e1121e2c4e37"
      },
      "execution_count": null,
      "outputs": [
        {
          "output_type": "execute_result",
          "data": {
            "text/plain": [
              "0    90\n",
              "1    23\n",
              "Name: loyal, dtype: int64"
            ]
          },
          "metadata": {},
          "execution_count": 19
        }
      ]
    },
    {
      "cell_type": "code",
      "source": [
        "#Separate data series with membershipCard = 0 and membershipCard = 1\n",
        "Member = data[data['membershipCard'] == 0 ]['loyal']\n",
        "Non_Member = data[data['membershipCard'] == 1 ]['loyal']"
      ],
      "metadata": {
        "id": "qlybtmZk-Z62"
      },
      "execution_count": null,
      "outputs": []
    },
    {
      "cell_type": "code",
      "source": [
        "#Look at the amount of data on the Member series against loyal\n",
        "Member"
      ],
      "metadata": {
        "id": "JccgapVMAa3r",
        "colab": {
          "base_uri": "https://localhost:8080/"
        },
        "outputId": "f30cc7a7-84b7-4f52-bbb6-356d8c4d74c8"
      },
      "execution_count": null,
      "outputs": [
        {
          "output_type": "execute_result",
          "data": {
            "text/plain": [
              "0      0\n",
              "1      0\n",
              "2      0\n",
              "6      0\n",
              "7      0\n",
              "8      0\n",
              "12     0\n",
              "13     0\n",
              "14     1\n",
              "15     1\n",
              "16     0\n",
              "17     0\n",
              "18     0\n",
              "19     0\n",
              "20     1\n",
              "23     0\n",
              "25     0\n",
              "28     0\n",
              "29     0\n",
              "30     0\n",
              "31     0\n",
              "33     1\n",
              "38     0\n",
              "39     0\n",
              "40     0\n",
              "41     0\n",
              "43     0\n",
              "46     0\n",
              "47     0\n",
              "49     0\n",
              "51     0\n",
              "52     0\n",
              "54     0\n",
              "57     0\n",
              "60     0\n",
              "63     0\n",
              "65     0\n",
              "67     0\n",
              "68     0\n",
              "69     0\n",
              "71     0\n",
              "73     0\n",
              "76     1\n",
              "77     0\n",
              "78     0\n",
              "80     0\n",
              "81     0\n",
              "82     0\n",
              "83     0\n",
              "84     0\n",
              "85     0\n",
              "86     0\n",
              "87     0\n",
              "88     0\n",
              "89     0\n",
              "92     0\n",
              "93     0\n",
              "96     0\n",
              "108    0\n",
              "109    0\n",
              "Name: loyal, dtype: int64"
            ]
          },
          "metadata": {},
          "execution_count": 21
        }
      ]
    },
    {
      "cell_type": "code",
      "source": [
        "#Look at the amount of data in the Non_Member series against loyal\n",
        "Non_Member"
      ],
      "metadata": {
        "colab": {
          "base_uri": "https://localhost:8080/"
        },
        "id": "GK0rA6S3AoHV",
        "outputId": "9c66b325-50bc-4790-ea24-e8c47aeb441d"
      },
      "execution_count": null,
      "outputs": [
        {
          "output_type": "execute_result",
          "data": {
            "text/plain": [
              "3      1\n",
              "4      0\n",
              "5      0\n",
              "9      0\n",
              "10     0\n",
              "11     1\n",
              "21     0\n",
              "22     1\n",
              "24     0\n",
              "26     1\n",
              "27     0\n",
              "32     0\n",
              "34     0\n",
              "35     1\n",
              "36     0\n",
              "37     0\n",
              "42     0\n",
              "44     0\n",
              "45     0\n",
              "48     1\n",
              "50     0\n",
              "53     0\n",
              "55     0\n",
              "56     0\n",
              "58     0\n",
              "59     0\n",
              "61     1\n",
              "62     1\n",
              "64     1\n",
              "66     0\n",
              "70     0\n",
              "72     0\n",
              "74     1\n",
              "75     1\n",
              "79     1\n",
              "90     0\n",
              "91     0\n",
              "94     0\n",
              "95     0\n",
              "97     0\n",
              "98     1\n",
              "99     0\n",
              "100    0\n",
              "101    1\n",
              "102    1\n",
              "103    0\n",
              "104    0\n",
              "105    1\n",
              "106    0\n",
              "107    0\n",
              "110    1\n",
              "111    0\n",
              "112    1\n",
              "Name: loyal, dtype: int64"
            ]
          },
          "metadata": {},
          "execution_count": 22
        }
      ]
    },
    {
      "cell_type": "markdown",
      "source": [
        "The value between the membershipCard with values ​​0 and 1 for the loyal variable at a glance is the same, to ensure this assumption a Two-Sided Paired Test is carried out, with the following hypothesis:\n",
        "\n",
        "**H0: Member = Non_Member**\n",
        "\n",
        "**H1: Member != Non_Member**"
      ],
      "metadata": {
        "id": "AdsZByEShpvB"
      }
    },
    {
      "cell_type": "code",
      "source": [
        "#Calculating p-value with t-stat\n",
        "t_stat,p_val = stats.ttest_rel(Member.sample(53),Non_Member.sample(53)) #we take 53 sample of each data to make the size the same.\n",
        "print('P-value:',p_val)"
      ],
      "metadata": {
        "colab": {
          "base_uri": "https://localhost:8080/"
        },
        "id": "ePn3jv9mAtOQ",
        "outputId": "e2f71e58-7482-48ed-8cc2-890cdef27509"
      },
      "execution_count": null,
      "outputs": [
        {
          "output_type": "stream",
          "name": "stdout",
          "text": [
            "P-value: 0.0011735790231159195\n"
          ]
        }
      ]
    },
    {
      "cell_type": "markdown",
      "source": [
        "Because the p-value < 0.05, it fails to reject H0, so it can be concluded that Member Card ownership is considered a loyal customer and Non_Member is not a loyal customer."
      ],
      "metadata": {
        "id": "BUCfYp9qBEPQ"
      }
    },
    {
      "cell_type": "markdown",
      "source": [
        "## How to determine the right product price for the customer? (Descriptive statistics)"
      ],
      "metadata": {
        "id": "g2f98Q5Fa_8N"
      }
    },
    {
      "cell_type": "code",
      "source": [
        "#Create a data series for the spendPurchase variable\n",
        "spend = data['spendPurchase'] = data['spendPurchase'].replace({0: '0', 1: '<RM20', 2: 'RM20-RM40', 3: '>RM40'})"
      ],
      "metadata": {
        "id": "6PaBgfNXbFCB",
        "colab": {
          "base_uri": "https://localhost:8080/"
        },
        "outputId": "4dc96439-0b89-4241-fd0b-137b5f44e01e"
      },
      "execution_count": null,
      "outputs": [
        {
          "output_type": "stream",
          "name": "stderr",
          "text": [
            "<ipython-input-24-f9daaca88300>:2: SettingWithCopyWarning: \n",
            "A value is trying to be set on a copy of a slice from a DataFrame.\n",
            "Try using .loc[row_indexer,col_indexer] = value instead\n",
            "\n",
            "See the caveats in the documentation: https://pandas.pydata.org/pandas-docs/stable/user_guide/indexing.html#returning-a-view-versus-a-copy\n",
            "  spend = data['spendPurchase'] = data['spendPurchase'].replace({0: '0', 1: '<RM20', 2: 'RM20-RM40', 3: '>RM40'})\n"
          ]
        }
      ]
    },
    {
      "cell_type": "code",
      "source": [
        "#Make Spend Purchase plots\n",
        "spend.value_counts().plot(kind='bar')\n",
        "\n",
        "plt.title('Spend Purchase')\n",
        "plt.xlabel('Spend in RM')\n",
        "plt.ylabel('Frequency')\n",
        "\n",
        "plt.show()"
      ],
      "metadata": {
        "colab": {
          "base_uri": "https://localhost:8080/",
          "height": 541
        },
        "id": "kjzUL8XHbr0l",
        "outputId": "e5bc4a23-50b2-4120-aac1-04de6b93ed00"
      },
      "execution_count": null,
      "outputs": [
        {
          "output_type": "display_data",
          "data": {
            "text/plain": [
              "<Figure size 640x480 with 1 Axes>"
            ],
            "image/png": "[encoded data removed]"
          },
          "metadata": {}
        }
      ]
    },
    {
      "cell_type": "markdown",
      "source": [
        "The total expenditure of the majority of Starbucks customers is in the RM0-RM40 range, so the ideal product price for customers does not exceed RM40."
      ],
      "metadata": {
        "id": "SKCC8tQVj-ay"
      }
    },
    {
      "cell_type": "markdown",
      "source": [
        "#Conclusion and Recommendation"
      ],
      "metadata": {
        "id": "jO7DxYEdvp0m"
      }
    },
    {
      "cell_type": "markdown",
      "source": [
        "There are several conclusions drawn from this analysis, including:\n",
        "\n",
        "* Customers who come to Starbucks are mostly **20-29 years old**, this age is the age that always gets updates on the **latest trends**, from that it can be used as a marketing strategy such as creating promotional programs related to the latest trends such as music, community, and campaigns social.\n",
        "\n",
        "* Starbucks customers have the most job status as \"Employed\" which has **high productivity**, so it is recommended to improve services and facilities at related outlets to support productivity as \"Employed\" who decide to work in cafes.\n",
        "* As many as **42.5%** of Starbucks customers choose to order **Take Away**, so more services are needed at the Take Away counter so orders can be given quickly.\n",
        "* The majority of Starbucks customers come with **distances > 3km**, therefore in order to make it easier for customers who travel long distances **to be accommodated with delivery/delivery services** and work together with delivery service platforms so that customers are not burdened with delivery costs.\n",
        "* **Customers who have a Customer Card are indicated as loyal customers** so that the loyalty program is running well, it is necessary to maintain the program by giving rewards to loyal customers so that they can survive.\n",
        "* The amount of money spent by the majority of customers is in the **RM 20 - RM40** range, so if a product is to be sold with high frequency the price of the product **must be in that range**.\n",
        "\n",
        "\n",
        "\n"
      ],
      "metadata": {
        "id": "ej2Z-4sVcN4-"
      }
    }
  ]
}